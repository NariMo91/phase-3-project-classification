{
 "cells": [
  {
   "cell_type": "code",
   "execution_count": null,
   "metadata": {},
   "outputs": [],
   "source": []
  },
  {
   "cell_type": "code",
   "execution_count": 1,
   "metadata": {},
   "outputs": [],
   "source": [
    "import pandas as pd\n",
    "import numpy as np\n",
    "import seaborn as sns\n",
    "import matplotlib.pyplot as plt\n",
    "%matplotlib inline"
   ]
  },
  {
   "cell_type": "code",
   "execution_count": 2,
   "metadata": {},
   "outputs": [],
   "source": [
    "from sklearn.model_selection import train_test_split, GridSearchCV\n",
    "from sklearn.preprocessing import StandardScaler\n",
    "from sklearn.preprocessing import MinMaxScaler\n",
    "from sklearn.pipeline import Pipeline\n",
    "from sklearn.ensemble import RandomForestClassifier\n",
    "from sklearn.metrics import classification_report\n",
    "from sklearn.metrics import confusion_matrix\n",
    "from sklearn.metrics import plot_confusion_matrix"
   ]
  },
  {
   "cell_type": "code",
   "execution_count": 3,
   "metadata": {},
   "outputs": [
    {
     "data": {
      "text/html": [
       "<div>\n",
       "<style scoped>\n",
       "    .dataframe tbody tr th:only-of-type {\n",
       "        vertical-align: middle;\n",
       "    }\n",
       "\n",
       "    .dataframe tbody tr th {\n",
       "        vertical-align: top;\n",
       "    }\n",
       "\n",
       "    .dataframe thead th {\n",
       "        text-align: right;\n",
       "    }\n",
       "</style>\n",
       "<table border=\"1\" class=\"dataframe\">\n",
       "  <thead>\n",
       "    <tr style=\"text-align: right;\">\n",
       "      <th></th>\n",
       "      <th>neo</th>\n",
       "      <th>pha</th>\n",
       "      <th>H</th>\n",
       "      <th>epoch</th>\n",
       "      <th>epoch_mjd</th>\n",
       "      <th>epoch_cal</th>\n",
       "      <th>e</th>\n",
       "      <th>a</th>\n",
       "      <th>q</th>\n",
       "      <th>i</th>\n",
       "      <th>...</th>\n",
       "      <th>class_AST</th>\n",
       "      <th>class_ATE</th>\n",
       "      <th>class_CEN</th>\n",
       "      <th>class_IEO</th>\n",
       "      <th>class_IMB</th>\n",
       "      <th>class_MBA</th>\n",
       "      <th>class_MCA</th>\n",
       "      <th>class_OMB</th>\n",
       "      <th>class_TJN</th>\n",
       "      <th>class_TNO</th>\n",
       "    </tr>\n",
       "  </thead>\n",
       "  <tbody>\n",
       "    <tr>\n",
       "      <th>0</th>\n",
       "      <td>0</td>\n",
       "      <td>0</td>\n",
       "      <td>3.40</td>\n",
       "      <td>2458600.5</td>\n",
       "      <td>58600</td>\n",
       "      <td>20190427.0</td>\n",
       "      <td>0.076009</td>\n",
       "      <td>2.769165</td>\n",
       "      <td>2.558684</td>\n",
       "      <td>10.594067</td>\n",
       "      <td>...</td>\n",
       "      <td>0</td>\n",
       "      <td>0</td>\n",
       "      <td>0</td>\n",
       "      <td>0</td>\n",
       "      <td>0</td>\n",
       "      <td>1</td>\n",
       "      <td>0</td>\n",
       "      <td>0</td>\n",
       "      <td>0</td>\n",
       "      <td>0</td>\n",
       "    </tr>\n",
       "    <tr>\n",
       "      <th>1</th>\n",
       "      <td>0</td>\n",
       "      <td>0</td>\n",
       "      <td>4.20</td>\n",
       "      <td>2459000.5</td>\n",
       "      <td>59000</td>\n",
       "      <td>20200531.0</td>\n",
       "      <td>0.229972</td>\n",
       "      <td>2.773841</td>\n",
       "      <td>2.135935</td>\n",
       "      <td>34.832932</td>\n",
       "      <td>...</td>\n",
       "      <td>0</td>\n",
       "      <td>0</td>\n",
       "      <td>0</td>\n",
       "      <td>0</td>\n",
       "      <td>0</td>\n",
       "      <td>1</td>\n",
       "      <td>0</td>\n",
       "      <td>0</td>\n",
       "      <td>0</td>\n",
       "      <td>0</td>\n",
       "    </tr>\n",
       "    <tr>\n",
       "      <th>2</th>\n",
       "      <td>0</td>\n",
       "      <td>0</td>\n",
       "      <td>5.33</td>\n",
       "      <td>2459000.5</td>\n",
       "      <td>59000</td>\n",
       "      <td>20200531.0</td>\n",
       "      <td>0.256936</td>\n",
       "      <td>2.668285</td>\n",
       "      <td>1.982706</td>\n",
       "      <td>12.991043</td>\n",
       "      <td>...</td>\n",
       "      <td>0</td>\n",
       "      <td>0</td>\n",
       "      <td>0</td>\n",
       "      <td>0</td>\n",
       "      <td>0</td>\n",
       "      <td>1</td>\n",
       "      <td>0</td>\n",
       "      <td>0</td>\n",
       "      <td>0</td>\n",
       "      <td>0</td>\n",
       "    </tr>\n",
       "    <tr>\n",
       "      <th>3</th>\n",
       "      <td>0</td>\n",
       "      <td>0</td>\n",
       "      <td>3.00</td>\n",
       "      <td>2458600.5</td>\n",
       "      <td>58600</td>\n",
       "      <td>20190427.0</td>\n",
       "      <td>0.088721</td>\n",
       "      <td>2.361418</td>\n",
       "      <td>2.151909</td>\n",
       "      <td>7.141771</td>\n",
       "      <td>...</td>\n",
       "      <td>0</td>\n",
       "      <td>0</td>\n",
       "      <td>0</td>\n",
       "      <td>0</td>\n",
       "      <td>0</td>\n",
       "      <td>1</td>\n",
       "      <td>0</td>\n",
       "      <td>0</td>\n",
       "      <td>0</td>\n",
       "      <td>0</td>\n",
       "    </tr>\n",
       "    <tr>\n",
       "      <th>4</th>\n",
       "      <td>0</td>\n",
       "      <td>0</td>\n",
       "      <td>6.90</td>\n",
       "      <td>2459000.5</td>\n",
       "      <td>59000</td>\n",
       "      <td>20200531.0</td>\n",
       "      <td>0.190913</td>\n",
       "      <td>2.574037</td>\n",
       "      <td>2.082619</td>\n",
       "      <td>5.367427</td>\n",
       "      <td>...</td>\n",
       "      <td>0</td>\n",
       "      <td>0</td>\n",
       "      <td>0</td>\n",
       "      <td>0</td>\n",
       "      <td>0</td>\n",
       "      <td>1</td>\n",
       "      <td>0</td>\n",
       "      <td>0</td>\n",
       "      <td>0</td>\n",
       "      <td>0</td>\n",
       "    </tr>\n",
       "  </tbody>\n",
       "</table>\n",
       "<p>5 rows × 45 columns</p>\n",
       "</div>"
      ],
      "text/plain": [
       "   neo  pha     H      epoch  epoch_mjd   epoch_cal         e         a  \\\n",
       "0    0    0  3.40  2458600.5      58600  20190427.0  0.076009  2.769165   \n",
       "1    0    0  4.20  2459000.5      59000  20200531.0  0.229972  2.773841   \n",
       "2    0    0  5.33  2459000.5      59000  20200531.0  0.256936  2.668285   \n",
       "3    0    0  3.00  2458600.5      58600  20190427.0  0.088721  2.361418   \n",
       "4    0    0  6.90  2459000.5      59000  20200531.0  0.190913  2.574037   \n",
       "\n",
       "          q          i  ...  class_AST  class_ATE  class_CEN  class_IEO  \\\n",
       "0  2.558684  10.594067  ...          0          0          0          0   \n",
       "1  2.135935  34.832932  ...          0          0          0          0   \n",
       "2  1.982706  12.991043  ...          0          0          0          0   \n",
       "3  2.151909   7.141771  ...          0          0          0          0   \n",
       "4  2.082619   5.367427  ...          0          0          0          0   \n",
       "\n",
       "   class_IMB  class_MBA  class_MCA  class_OMB  class_TJN  class_TNO  \n",
       "0          0          1          0          0          0          0  \n",
       "1          0          1          0          0          0          0  \n",
       "2          0          1          0          0          0          0  \n",
       "3          0          1          0          0          0          0  \n",
       "4          0          1          0          0          0          0  \n",
       "\n",
       "[5 rows x 45 columns]"
      ]
     },
     "execution_count": 3,
     "metadata": {},
     "output_type": "execute_result"
    }
   ],
   "source": [
    "df = pd.read_csv('data/data_no_fliers.csv')\n",
    "df.drop('Unnamed: 0', axis=1, inplace=True)\n",
    "df.head()"
   ]
  },
  {
   "cell_type": "code",
   "execution_count": 4,
   "metadata": {},
   "outputs": [
    {
     "name": "stdout",
     "output_type": "stream",
     "text": [
      "<class 'pandas.core.frame.DataFrame'>\n",
      "RangeIndex: 921430 entries, 0 to 921429\n",
      "Data columns (total 45 columns):\n",
      " #   Column     Non-Null Count   Dtype  \n",
      "---  ------     --------------   -----  \n",
      " 0   neo        921430 non-null  int64  \n",
      " 1   pha        921430 non-null  int64  \n",
      " 2   H          921430 non-null  float64\n",
      " 3   epoch      921430 non-null  float64\n",
      " 4   epoch_mjd  921430 non-null  int64  \n",
      " 5   epoch_cal  921430 non-null  float64\n",
      " 6   e          921430 non-null  float64\n",
      " 7   a          921430 non-null  float64\n",
      " 8   q          921430 non-null  float64\n",
      " 9   i          921430 non-null  float64\n",
      " 10  om         921430 non-null  float64\n",
      " 11  w          921430 non-null  float64\n",
      " 12  ma         921430 non-null  float64\n",
      " 13  ad         921430 non-null  float64\n",
      " 14  n          921430 non-null  float64\n",
      " 15  tp         921430 non-null  float64\n",
      " 16  tp_cal     921430 non-null  float64\n",
      " 17  per        921430 non-null  float64\n",
      " 18  per_y      921430 non-null  float64\n",
      " 19  moid       921430 non-null  float64\n",
      " 20  moid_ld    921430 non-null  float64\n",
      " 21  sigma_e    921430 non-null  float64\n",
      " 22  sigma_a    921430 non-null  float64\n",
      " 23  sigma_q    921430 non-null  float64\n",
      " 24  sigma_i    921430 non-null  float64\n",
      " 25  sigma_om   921430 non-null  float64\n",
      " 26  sigma_w    921430 non-null  float64\n",
      " 27  sigma_ma   921430 non-null  float64\n",
      " 28  sigma_ad   921430 non-null  float64\n",
      " 29  sigma_n    921430 non-null  float64\n",
      " 30  sigma_tp   921430 non-null  float64\n",
      " 31  sigma_per  921430 non-null  float64\n",
      " 32  rms        921430 non-null  float64\n",
      " 33  class_AMO  921430 non-null  int64  \n",
      " 34  class_APO  921430 non-null  int64  \n",
      " 35  class_AST  921430 non-null  int64  \n",
      " 36  class_ATE  921430 non-null  int64  \n",
      " 37  class_CEN  921430 non-null  int64  \n",
      " 38  class_IEO  921430 non-null  int64  \n",
      " 39  class_IMB  921430 non-null  int64  \n",
      " 40  class_MBA  921430 non-null  int64  \n",
      " 41  class_MCA  921430 non-null  int64  \n",
      " 42  class_OMB  921430 non-null  int64  \n",
      " 43  class_TJN  921430 non-null  int64  \n",
      " 44  class_TNO  921430 non-null  int64  \n",
      "dtypes: float64(30), int64(15)\n",
      "memory usage: 316.3 MB\n"
     ]
    }
   ],
   "source": [
    "df.info()"
   ]
  },
  {
   "cell_type": "code",
   "execution_count": 5,
   "metadata": {},
   "outputs": [],
   "source": [
    "X = df.drop('pha', axis=1)\n",
    "y = df['pha']\n",
    "\n",
    "X_train, X_test, y_train, y_test = train_test_split(X, y, test_size=0.25, random_state=42)"
   ]
  },
  {
   "cell_type": "code",
   "execution_count": 6,
   "metadata": {},
   "outputs": [],
   "source": [
    "ss = StandardScaler()\n",
    "\n",
    "X_train_scaled = ss.fit_transform(X_train)\n",
    "X_test_scaled = ss.transform(X_test)"
   ]
  },
  {
   "cell_type": "code",
   "execution_count": 7,
   "metadata": {},
   "outputs": [
    {
     "data": {
      "text/plain": [
       "RandomForestClassifier(class_weight={0: 1, 1: 200})"
      ]
     },
     "execution_count": 7,
     "metadata": {},
     "output_type": "execute_result"
    }
   ],
   "source": [
    "RF = RandomForestClassifier(class_weight={0:1, 1:200})\n",
    "RF.fit(X_train_scaled, y_train)"
   ]
  },
  {
   "cell_type": "code",
   "execution_count": 8,
   "metadata": {},
   "outputs": [
    {
     "name": "stdout",
     "output_type": "stream",
     "text": [
      "Train Report\n",
      "              precision    recall  f1-score   support\n",
      "\n",
      "           0       1.00      1.00      1.00    689548\n",
      "           1       1.00      1.00      1.00      1524\n",
      "\n",
      "    accuracy                           1.00    691072\n",
      "   macro avg       1.00      1.00      1.00    691072\n",
      "weighted avg       1.00      1.00      1.00    691072\n",
      "\n",
      "\n",
      "\n",
      "Test Report\n",
      "              precision    recall  f1-score   support\n",
      "\n",
      "           0       1.00      1.00      1.00    229817\n",
      "           1       0.98      0.96      0.97       541\n",
      "\n",
      "    accuracy                           1.00    230358\n",
      "   macro avg       0.99      0.98      0.99    230358\n",
      "weighted avg       1.00      1.00      1.00    230358\n",
      "\n"
     ]
    }
   ],
   "source": [
    "y_pred = RF.predict(X_test_scaled)\n",
    "\n",
    "print('Train Report')\n",
    "print(classification_report(y_train, RF.predict(X_train_scaled)))\n",
    "print('\\n')\n",
    "print('Test Report')\n",
    "print(classification_report(y_test, y_pred))"
   ]
  },
  {
   "cell_type": "code",
   "execution_count": 9,
   "metadata": {},
   "outputs": [
    {
     "data": {
      "image/png": "[encoded data removed]",
      "text/plain": [
       "<Figure size 432x288 with 2 Axes>"
      ]
     },
     "metadata": {
      "needs_background": "light"
     },
     "output_type": "display_data"
    }
   ],
   "source": [
    "plot_confusion_matrix(RF, X_test_scaled, y_test, cmap=plt.cm.Blues, \n",
    "                      display_labels=['Non-Hazardous', 'Potentially Hazardous'], xticks_rotation=45.0);"
   ]
  },
  {
   "cell_type": "code",
   "execution_count": 10,
   "metadata": {},
   "outputs": [
    {
     "name": "stdout",
     "output_type": "stream",
     "text": [
      "Mean depth: 26.93\n"
     ]
    },
    {
     "data": {
      "text/plain": [
       "[23,\n",
       " 23,\n",
       " 27,\n",
       " 25,\n",
       " 25,\n",
       " 31,\n",
       " 27,\n",
       " 36,\n",
       " 24,\n",
       " 24,\n",
       " 21,\n",
       " 23,\n",
       " 23,\n",
       " 37,\n",
       " 25,\n",
       " 26,\n",
       " 24,\n",
       " 18,\n",
       " 26,\n",
       " 35,\n",
       " 24,\n",
       " 20,\n",
       " 26,\n",
       " 17,\n",
       " 30,\n",
       " 32,\n",
       " 29,\n",
       " 29,\n",
       " 25,\n",
       " 23,\n",
       " 28,\n",
       " 34,\n",
       " 21,\n",
       " 20,\n",
       " 35,\n",
       " 24,\n",
       " 43,\n",
       " 23,\n",
       " 29,\n",
       " 29,\n",
       " 32,\n",
       " 25,\n",
       " 25,\n",
       " 33,\n",
       " 35,\n",
       " 27,\n",
       " 30,\n",
       " 26,\n",
       " 22,\n",
       " 23,\n",
       " 24,\n",
       " 22,\n",
       " 22,\n",
       " 31,\n",
       " 22,\n",
       " 29,\n",
       " 28,\n",
       " 24,\n",
       " 22,\n",
       " 28,\n",
       " 27,\n",
       " 41,\n",
       " 24,\n",
       " 23,\n",
       " 23,\n",
       " 29,\n",
       " 23,\n",
       " 19,\n",
       " 32,\n",
       " 29,\n",
       " 38,\n",
       " 22,\n",
       " 25,\n",
       " 32,\n",
       " 27,\n",
       " 26,\n",
       " 24,\n",
       " 23,\n",
       " 21,\n",
       " 28,\n",
       " 26,\n",
       " 36,\n",
       " 34,\n",
       " 34,\n",
       " 24,\n",
       " 34,\n",
       " 24,\n",
       " 26,\n",
       " 34,\n",
       " 27,\n",
       " 21,\n",
       " 28,\n",
       " 19,\n",
       " 24,\n",
       " 23,\n",
       " 28,\n",
       " 41,\n",
       " 31,\n",
       " 25,\n",
       " 24]"
      ]
     },
     "execution_count": 10,
     "metadata": {},
     "output_type": "execute_result"
    }
   ],
   "source": [
    "depths = [estimator.tree_.max_depth for estimator in RF.estimators_]\n",
    "print('Mean depth:', np.mean(depths))\n",
    "depths"
   ]
  },
  {
   "cell_type": "code",
   "execution_count": 11,
   "metadata": {},
   "outputs": [
    {
     "data": {
      "text/plain": [
       "{'bootstrap': True,\n",
       " 'ccp_alpha': 0.0,\n",
       " 'class_weight': {0: 1, 1: 200},\n",
       " 'criterion': 'gini',\n",
       " 'max_depth': None,\n",
       " 'max_features': 'auto',\n",
       " 'max_leaf_nodes': None,\n",
       " 'max_samples': None,\n",
       " 'min_impurity_decrease': 0.0,\n",
       " 'min_impurity_split': None,\n",
       " 'min_samples_leaf': 1,\n",
       " 'min_samples_split': 2,\n",
       " 'min_weight_fraction_leaf': 0.0,\n",
       " 'n_estimators': 100,\n",
       " 'n_jobs': None,\n",
       " 'oob_score': False,\n",
       " 'random_state': None,\n",
       " 'verbose': 0,\n",
       " 'warm_start': False}"
      ]
     },
     "execution_count": 11,
     "metadata": {},
     "output_type": "execute_result"
    }
   ],
   "source": [
    "RF.get_params()"
   ]
  },
  {
   "cell_type": "markdown",
   "metadata": {},
   "source": [
    "### Iteration 2"
   ]
  },
  {
   "cell_type": "code",
   "execution_count": 8,
   "metadata": {},
   "outputs": [],
   "source": [
    "RF2 = RandomForestClassifier(random_state=123)\n",
    "\n",
    "param_grid = {\n",
    "    'class_weight': ['balanced', {0:1, 1:200}],\n",
    "    'n_estimators': [50, 100],\n",
    "    'max_depth': [7, 14, 21],\n",
    "    'min_samples_leaf': [1, 3, 6]\n",
    "}\n",
    "\n",
    "RF2_grid = GridSearchCV(RF2, param_grid=param_grid, cv=3, scoring='recall')"
   ]
  },
  {
   "cell_type": "code",
   "execution_count": null,
   "metadata": {},
   "outputs": [],
   "source": [
    "RF2_grid.fit(X_train_scaled, y_train)"
   ]
  },
  {
   "cell_type": "code",
   "execution_count": 15,
   "metadata": {},
   "outputs": [
    {
     "name": "stdout",
     "output_type": "stream",
     "text": [
      "Train Report\n",
      "              precision    recall  f1-score   support\n",
      "\n",
      "           0       1.00      1.00      1.00    689548\n",
      "           1       0.85      1.00      0.92      1524\n",
      "\n",
      "    accuracy                           1.00    691072\n",
      "   macro avg       0.93      1.00      0.96    691072\n",
      "weighted avg       1.00      1.00      1.00    691072\n",
      "\n",
      "\n",
      "\n",
      "Test Report\n",
      "              precision    recall  f1-score   support\n",
      "\n",
      "           0       1.00      1.00      1.00    229817\n",
      "           1       0.85      1.00      0.92       541\n",
      "\n",
      "    accuracy                           1.00    230358\n",
      "   macro avg       0.92      1.00      0.96    230358\n",
      "weighted avg       1.00      1.00      1.00    230358\n",
      "\n"
     ]
    }
   ],
   "source": [
    "y_pred = RF2_grid.predict(X_test_scaled)\n",
    "\n",
    "print('Train Report')\n",
    "print(classification_report(y_train, RF2_grid.predict(X_train_scaled)))\n",
    "print('\\n')\n",
    "print('Test Report')\n",
    "print(classification_report(y_test, y_pred))"
   ]
  },
  {
   "cell_type": "markdown",
   "metadata": {},
   "source": [
    "The model is no longer overfit to the training data."
   ]
  },
  {
   "cell_type": "code",
   "execution_count": 39,
   "metadata": {},
   "outputs": [
    {
     "data": {
      "image/png": "[encoded data removed]",
      "text/plain": [
       "<Figure size 432x288 with 2 Axes>"
      ]
     },
     "metadata": {
      "needs_background": "light"
     },
     "output_type": "display_data"
    }
   ],
   "source": [
    "plot_confusion_matrix(RF2_grid, X_test_scaled, y_test, cmap=plt.cm.Blues, \n",
    "                      display_labels=['Non-Hazardous', 'Potentially Hazardous'], xticks_rotation=45.0);"
   ]
  },
  {
   "cell_type": "code",
   "execution_count": 17,
   "metadata": {},
   "outputs": [
    {
     "data": {
      "text/plain": [
       "{'class_weight': {0: 1, 1: 200},\n",
       " 'max_depth': 7,\n",
       " 'min_samples_leaf': 3,\n",
       " 'n_estimators': 100}"
      ]
     },
     "execution_count": 17,
     "metadata": {},
     "output_type": "execute_result"
    }
   ],
   "source": [
    "RF2_grid.best_params_"
   ]
  },
  {
   "cell_type": "markdown",
   "metadata": {},
   "source": [
    "### Iteration 3"
   ]
  },
  {
   "cell_type": "markdown",
   "metadata": {},
   "source": [
    "Searching around `max_depth` = 7 and `min_samples_leaf` = 3"
   ]
  },
  {
   "cell_type": "code",
   "execution_count": 10,
   "metadata": {},
   "outputs": [],
   "source": [
    "RF3 = RandomForestClassifier(random_state=123)\n",
    "\n",
    "class_weights = ['balanced', {0:1, 1:200}]\n",
    "\n",
    "param_grid = {\n",
    "    'class_weight': class_weights,\n",
    "    'max_depth': [6, 7, 8, 9],\n",
    "    'min_samples_leaf': [2, 3, 4, 5]\n",
    "}\n",
    "\n",
    "RF3_grid = GridSearchCV(RF3, param_grid=param_grid, cv=3, scoring='recall')"
   ]
  },
  {
   "cell_type": "code",
   "execution_count": 11,
   "metadata": {},
   "outputs": [
    {
     "data": {
      "text/plain": [
       "GridSearchCV(cv=3, estimator=RandomForestClassifier(random_state=123),\n",
       "             param_grid={'class_weight': ['balanced', {0: 1, 1: 200}],\n",
       "                         'max_depth': [6, 7, 8, 9],\n",
       "                         'min_samples_leaf': [2, 3, 4, 5]},\n",
       "             scoring='recall')"
      ]
     },
     "execution_count": 11,
     "metadata": {},
     "output_type": "execute_result"
    }
   ],
   "source": [
    "RF3_grid.fit(X_train_scaled, y_train)"
   ]
  },
  {
   "cell_type": "code",
   "execution_count": 12,
   "metadata": {},
   "outputs": [
    {
     "name": "stdout",
     "output_type": "stream",
     "text": [
      "Train Report\n",
      "              precision    recall  f1-score   support\n",
      "\n",
      "           0       1.00      1.00      1.00    689548\n",
      "           1       0.50      1.00      0.67      1524\n",
      "\n",
      "    accuracy                           1.00    691072\n",
      "   macro avg       0.75      1.00      0.83    691072\n",
      "weighted avg       1.00      1.00      1.00    691072\n",
      "\n",
      "\n",
      "\n",
      "Test Report\n",
      "              precision    recall  f1-score   support\n",
      "\n",
      "           0       1.00      1.00      1.00    229817\n",
      "           1       0.52      1.00      0.69       541\n",
      "\n",
      "    accuracy                           1.00    230358\n",
      "   macro avg       0.76      1.00      0.84    230358\n",
      "weighted avg       1.00      1.00      1.00    230358\n",
      "\n"
     ]
    }
   ],
   "source": [
    "y_pred = RF3_grid.predict(X_test_scaled)\n",
    "\n",
    "print('Train Report')\n",
    "print(classification_report(y_train, RF3_grid.predict(X_train_scaled)))\n",
    "print('\\n')\n",
    "print('Test Report')\n",
    "print(classification_report(y_test, y_pred))"
   ]
  },
  {
   "cell_type": "code",
   "execution_count": 13,
   "metadata": {},
   "outputs": [
    {
     "data": {
      "image/png": "[encoded data removed]",
      "text/plain": [
       "<Figure size 432x288 with 2 Axes>"
      ]
     },
     "metadata": {
      "needs_background": "light"
     },
     "output_type": "display_data"
    }
   ],
   "source": [
    "sns.set_context('paper')\n",
    "\n",
    "plot_confusion_matrix(RF3_grid, X_test_scaled, y_test, cmap=plt.cm.Blues, \n",
    "                      display_labels=['Non-Hazardous', 'Potentially Hazardous'], xticks_rotation=45.0);"
   ]
  },
  {
   "cell_type": "code",
   "execution_count": 14,
   "metadata": {},
   "outputs": [
    {
     "data": {
      "text/plain": [
       "{'class_weight': 'balanced', 'max_depth': 6, 'min_samples_leaf': 2}"
      ]
     },
     "execution_count": 14,
     "metadata": {},
     "output_type": "execute_result"
    }
   ],
   "source": [
    "RF3_grid.best_params_"
   ]
  },
  {
   "cell_type": "markdown",
   "metadata": {},
   "source": [
    "### Iteration 4"
   ]
  },
  {
   "cell_type": "markdown",
   "metadata": {},
   "source": [
    "Last gridsearch will omit `max_depth` = 6 to see if we can address the high number of false positives."
   ]
  },
  {
   "cell_type": "code",
   "execution_count": 17,
   "metadata": {},
   "outputs": [],
   "source": [
    "RF4 = RandomForestClassifier(random_state=123)\n",
    "\n",
    "param_grid = {\n",
    "    'class_weight': class_weights,\n",
    "    'max_depth': [7, 8, 9],\n",
    "    'min_samples_leaf': [2, 3, 4, 5]\n",
    "}\n",
    "\n",
    "RF4_grid = GridSearchCV(RF4, param_grid=param_grid, cv=3, scoring='recall')"
   ]
  },
  {
   "cell_type": "code",
   "execution_count": 18,
   "metadata": {},
   "outputs": [
    {
     "data": {
      "text/plain": [
       "GridSearchCV(cv=3, estimator=RandomForestClassifier(random_state=123),\n",
       "             param_grid={'class_weight': ['balanced', {0: 1, 1: 200}],\n",
       "                         'max_depth': [7, 8, 9],\n",
       "                         'min_samples_leaf': [2, 3, 4, 5]},\n",
       "             scoring='recall')"
      ]
     },
     "execution_count": 18,
     "metadata": {},
     "output_type": "execute_result"
    }
   ],
   "source": [
    "RF4_grid.fit(X_train_scaled, y_train)"
   ]
  },
  {
   "cell_type": "code",
   "execution_count": 19,
   "metadata": {},
   "outputs": [
    {
     "name": "stdout",
     "output_type": "stream",
     "text": [
      "Train Report\n",
      "              precision    recall  f1-score   support\n",
      "\n",
      "           0       1.00      1.00      1.00    689548\n",
      "           1       0.85      1.00      0.92      1524\n",
      "\n",
      "    accuracy                           1.00    691072\n",
      "   macro avg       0.93      1.00      0.96    691072\n",
      "weighted avg       1.00      1.00      1.00    691072\n",
      "\n",
      "\n",
      "\n",
      "Test Report\n",
      "              precision    recall  f1-score   support\n",
      "\n",
      "           0       1.00      1.00      1.00    229817\n",
      "           1       0.85      1.00      0.92       541\n",
      "\n",
      "    accuracy                           1.00    230358\n",
      "   macro avg       0.92      1.00      0.96    230358\n",
      "weighted avg       1.00      1.00      1.00    230358\n",
      "\n"
     ]
    }
   ],
   "source": [
    "y_pred = RF4_grid.predict(X_test_scaled)\n",
    "\n",
    "print('Train Report')\n",
    "print(classification_report(y_train, RF4_grid.predict(X_train_scaled)))\n",
    "print('\\n')\n",
    "print('Test Report')\n",
    "print(classification_report(y_test, y_pred))"
   ]
  },
  {
   "cell_type": "code",
   "execution_count": 30,
   "metadata": {},
   "outputs": [
    {
     "data": {
      "image/png": "[encoded data removed]",
      "text/plain": [
       "<Figure size 432x288 with 2 Axes>"
      ]
     },
     "metadata": {
      "needs_background": "light"
     },
     "output_type": "display_data"
    }
   ],
   "source": [
    "sns.set_context('talk', font_scale=0.65)\n",
    "plot_confusion_matrix(RF4_grid, X_test_scaled, y_test, cmap=plt.cm.Blues, \n",
    "                      display_labels=['Non-Hazardous', 'Potentially Hazardous'], xticks_rotation=45.0)\n",
    "plt.title('Random Forest Confusion Matrix')\n",
    "plt.savefig('Images/RF-matrix.png', bbox_inches='tight')\n",
    "plt.savefig('Images/RF-matrix-hr.png', dpi=200, bbox_inches='tight');"
   ]
  },
  {
   "cell_type": "code",
   "execution_count": 21,
   "metadata": {},
   "outputs": [
    {
     "data": {
      "text/plain": [
       "{'class_weight': {0: 1, 1: 200}, 'max_depth': 7, 'min_samples_leaf': 3}"
      ]
     },
     "execution_count": 21,
     "metadata": {},
     "output_type": "execute_result"
    }
   ],
   "source": [
    "RF4_grid.best_params_"
   ]
  },
  {
   "cell_type": "code",
   "execution_count": 22,
   "metadata": {},
   "outputs": [
    {
     "data": {
      "text/plain": [
       "RandomForestClassifier(class_weight={0: 1, 1: 200}, max_depth=7,\n",
       "                       min_samples_leaf=3, random_state=123)"
      ]
     },
     "execution_count": 22,
     "metadata": {},
     "output_type": "execute_result"
    }
   ],
   "source": [
    "RF4 = RandomForestClassifier(random_state=123, class_weight={0:1, 1:200}, max_depth=7, min_samples_leaf=3)\n",
    "\n",
    "RF4.fit(X_train_scaled, y_train)"
   ]
  },
  {
   "cell_type": "code",
   "execution_count": 33,
   "metadata": {},
   "outputs": [
    {
     "data": {
      "image/png": "[encoded data removed]",
      "text/plain": [
       "<Figure size 1440x1080 with 1 Axes>"
      ]
     },
     "metadata": {},
     "output_type": "display_data"
    }
   ],
   "source": [
    "sns.set_context('talk')\n",
    "sns.set_style('darkgrid')\n",
    "\n",
    "plt.figure(figsize=(20, 15))\n",
    "sns.barplot(x = RF4.feature_importances_, \n",
    "            y = X.columns, color='#682dd3')\n",
    "plt.title('Feature Importances')\n",
    "plt.xlabel('mean decrease in impurity')\n",
    "plt.ylabel('feature')\n",
    "plt.tight_layout()\n",
    "plt.savefig('Images/RF-importances.png')\n",
    "plt.savefig('Images/RF-importances.png', dpi=200);"
   ]
  },
  {
   "cell_type": "code",
   "execution_count": 34,
   "metadata": {},
   "outputs": [],
   "source": [
    "from sklearn.decomposition import PCA\n",
    "\n",
    "pca = PCA(n_components=5)\n",
    "X_transformed = pca.fit_transform(X_train_scaled)"
   ]
  },
  {
   "cell_type": "code",
   "execution_count": 35,
   "metadata": {},
   "outputs": [
    {
     "data": {
      "text/plain": [
       "array([0.19685156, 0.19090429, 0.10615482, 0.06094324, 0.04144515])"
      ]
     },
     "execution_count": 35,
     "metadata": {},
     "output_type": "execute_result"
    }
   ],
   "source": [
    "pca.explained_variance_ratio_"
   ]
  },
  {
   "cell_type": "code",
   "execution_count": 36,
   "metadata": {},
   "outputs": [
    {
     "data": {
      "text/plain": [
       "array([[ 1.27542039e-02,  1.52473281e-02, -1.58175961e-02,\n",
       "        -1.58175961e-02, -1.58290957e-02,  1.03213098e-02,\n",
       "        -1.84319288e-02, -1.91784300e-02, -9.85767667e-04,\n",
       "        -1.53721468e-04, -2.08587819e-04, -7.20260799e-04,\n",
       "        -1.27459463e-02,  1.72449064e-02, -1.40138695e-02,\n",
       "        -1.39574146e-02, -1.80149625e-02, -1.80149625e-02,\n",
       "        -1.89824635e-02, -1.89824635e-02,  2.66314755e-01,\n",
       "         3.25919764e-01,  2.61916406e-01,  2.95404804e-01,\n",
       "         2.18694776e-01,  3.27418165e-01,  3.14062198e-01,\n",
       "         3.25233226e-01,  3.10534332e-01,  3.15362133e-01,\n",
       "         3.27373260e-01,  6.31337904e-05,  6.32400184e-03,\n",
       "         9.99037782e-03, -4.70669720e-04,  4.97793807e-03,\n",
       "        -1.61738770e-03,  6.51942931e-04,  4.60691810e-03,\n",
       "        -7.75711353e-03,  4.49679407e-03, -4.95202787e-03,\n",
       "        -3.48840881e-03, -0.00000000e+00],\n",
       "       [-2.08029712e-01, -2.40662799e-01,  7.68968374e-02,\n",
       "         7.68968374e-02,  7.71649506e-02, -1.60202421e-01,\n",
       "         3.22067675e-01,  3.23862930e-01,  8.51264474e-03,\n",
       "        -3.11736182e-03, -6.85094289e-04,  1.00094776e-02,\n",
       "         2.32694313e-01, -2.97992289e-01,  6.94856364e-02,\n",
       "         6.92863096e-02,  3.15567275e-01,  3.15567275e-01,\n",
       "         3.20495242e-01,  3.20495242e-01,  1.68380010e-02,\n",
       "         2.03905489e-02,  1.65722501e-02,  1.84570066e-02,\n",
       "         1.38336019e-02,  2.06088716e-02,  1.97079832e-02,\n",
       "         2.03446266e-02,  1.93577886e-02,  1.98349027e-02,\n",
       "         2.05025611e-02, -5.31778459e-04, -1.03243575e-01,\n",
       "        -1.60801526e-01,  1.00234944e-02, -8.67192111e-02,\n",
       "         3.13270355e-02, -1.12712827e-02, -8.50278890e-02,\n",
       "         1.22477613e-01, -7.17198709e-02,  9.29215879e-02,\n",
       "         6.48945204e-02, -0.00000000e+00],\n",
       "       [ 5.04435854e-02,  5.83809628e-02, -4.32708461e-01,\n",
       "        -4.32708461e-01, -4.32535015e-01,  6.25047189e-02,\n",
       "         1.04064623e-01,  4.68136216e-02,  3.48130986e-02,\n",
       "         1.15992828e-03, -1.14031619e-05, -6.77016015e-02,\n",
       "         1.26494873e-01, -6.27556860e-02, -4.15360787e-01,\n",
       "        -4.13288498e-01,  1.09148295e-01,  1.09148295e-01,\n",
       "         5.20714451e-02,  5.20714451e-02, -5.84144254e-03,\n",
       "        -7.50950291e-03, -5.97478597e-03, -5.68749618e-03,\n",
       "        -4.52441514e-03, -8.34013461e-03, -8.37113078e-03,\n",
       "        -7.24631210e-03, -7.69435015e-03, -8.23011758e-03,\n",
       "        -7.37636539e-03, -4.35061294e-03,  2.99983142e-02,\n",
       "         4.96721615e-02,  1.25854102e-02, -1.83330542e-02,\n",
       "         3.15973158e-02, -1.80021235e-03, -3.87973934e-02,\n",
       "        -6.10775270e-02,  2.17590275e-02,  6.40394092e-02,\n",
       "         4.46874827e-02, -0.00000000e+00],\n",
       "       [ 3.49079774e-01,  1.17435399e-01,  9.78174596e-02,\n",
       "         9.78174596e-02,  9.74774021e-02,  3.84050341e-01,\n",
       "         1.69901726e-01, -7.41751051e-02,  2.10554277e-01,\n",
       "         2.57886182e-03,  1.99757534e-03,  3.50296037e-02,\n",
       "         3.40140764e-01, -5.92203625e-03,  1.15746698e-01,\n",
       "         1.15089382e-01,  1.98510619e-01,  1.98510619e-01,\n",
       "        -4.59436561e-02, -4.59436561e-02,  6.20690275e-04,\n",
       "         9.58514072e-04,  1.94201484e-04, -2.13043390e-04,\n",
       "         2.90036706e-03,  1.89919267e-03,  1.57317827e-03,\n",
       "         1.08053548e-03,  6.13289381e-04,  1.97692477e-03,\n",
       "         1.07268351e-03,  1.95833442e-03,  2.32637610e-01,\n",
       "         2.62978844e-01,  4.46999929e-02,  3.40105736e-02,\n",
       "         1.22431685e-01,  4.91122677e-03, -3.78098086e-02,\n",
       "        -3.84291767e-01,  1.18280885e-01,  2.50424547e-01,\n",
       "         1.24844518e-01, -0.00000000e+00],\n",
       "       [-4.81640185e-02, -4.83080825e-02, -1.86687861e-02,\n",
       "        -1.86687861e-02, -1.82572273e-02, -3.41812612e-01,\n",
       "        -6.22154540e-02,  1.43063750e-01,  2.93117501e-01,\n",
       "         1.13414211e-02, -2.13854392e-02,  3.83502783e-02,\n",
       "        -2.27383270e-01,  1.68970365e-01, -3.23543596e-03,\n",
       "        -2.24895674e-03, -4.07083816e-02, -4.07083816e-02,\n",
       "         1.57011240e-01,  1.57011240e-01, -4.27329590e-03,\n",
       "         1.55537734e-03, -4.25554016e-03, -2.61907550e-03,\n",
       "        -2.22158113e-03,  4.13474069e-04,  2.42752590e-03,\n",
       "         1.36051718e-03,  2.48219699e-03,  1.63276697e-03,\n",
       "         1.34093337e-03,  1.26008409e-02, -4.90320037e-02,\n",
       "        -7.18510381e-02, -3.56658417e-02,  1.24289327e-01,\n",
       "        -4.29049908e-02,  4.11308753e-02,  5.18329579e-01,\n",
       "        -4.67414008e-01,  1.10942505e-01,  3.19623044e-01,\n",
       "         5.12157241e-02, -0.00000000e+00]])"
      ]
     },
     "execution_count": 36,
     "metadata": {},
     "output_type": "execute_result"
    }
   ],
   "source": [
    "pca.components_"
   ]
  },
  {
   "cell_type": "code",
   "execution_count": 37,
   "metadata": {},
   "outputs": [
    {
     "data": {
      "text/plain": [
       "neo         -0.208030\n",
       "H           -0.240663\n",
       "epoch        0.076897\n",
       "epoch_mjd    0.076897\n",
       "epoch_cal    0.077165\n",
       "e           -0.160202\n",
       "a            0.322068\n",
       "q            0.323863\n",
       "i            0.008513\n",
       "om          -0.003117\n",
       "w           -0.000685\n",
       "ma           0.010009\n",
       "ad           0.232694\n",
       "n           -0.297992\n",
       "tp           0.069486\n",
       "tp_cal       0.069286\n",
       "per          0.315567\n",
       "per_y        0.315567\n",
       "moid         0.320495\n",
       "moid_ld      0.320495\n",
       "sigma_e      0.016838\n",
       "sigma_a      0.020391\n",
       "sigma_q      0.016572\n",
       "sigma_i      0.018457\n",
       "sigma_om     0.013834\n",
       "sigma_w      0.020609\n",
       "sigma_ma     0.019708\n",
       "sigma_ad     0.020345\n",
       "sigma_n      0.019358\n",
       "sigma_tp     0.019835\n",
       "sigma_per    0.020503\n",
       "rms         -0.000532\n",
       "class_AMO   -0.103244\n",
       "class_APO   -0.160802\n",
       "class_AST    0.010023\n",
       "class_ATE   -0.086719\n",
       "class_CEN    0.031327\n",
       "class_IEO   -0.011271\n",
       "class_IMB   -0.085028\n",
       "class_MBA    0.122478\n",
       "class_MCA   -0.071720\n",
       "class_OMB    0.092922\n",
       "class_TJN    0.064895\n",
       "class_TNO   -0.000000\n",
       "Name: 1, dtype: float64"
      ]
     },
     "execution_count": 37,
     "metadata": {},
     "output_type": "execute_result"
    }
   ],
   "source": [
    "pd.DataFrame(data=pca.components_, columns=X.columns).iloc[1]"
   ]
  },
  {
   "cell_type": "code",
   "execution_count": null,
   "metadata": {},
   "outputs": [],
   "source": []
  }
 ],
 "metadata": {
  "kernelspec": {
   "display_name": "learn-env",
   "language": "python",
   "name": "learn-env"
  },
  "language_info": {
   "codemirror_mode": {
    "name": "ipython",
    "version": 3
   },
   "file_extension": ".py",
   "mimetype": "text/x-python",
   "name": "python",
   "nbconvert_exporter": "python",
   "pygments_lexer": "ipython3",
   "version": "3.8.5"
  }
 },
 "nbformat": 4,
 "nbformat_minor": 4
}
