{
 "cells": [
  {
   "cell_type": "code",
   "execution_count": null,
   "metadata": {},
   "outputs": [],
   "source": []
  },
  {
   "cell_type": "code",
   "execution_count": 1,
   "metadata": {},
   "outputs": [],
   "source": [
    "import pandas as pd\n",
    "import numpy as np\n",
    "import seaborn as sns\n",
    "import matplotlib.pyplot as plt\n",
    "%matplotlib inline"
   ]
  },
  {
   "cell_type": "code",
   "execution_count": 2,
   "metadata": {},
   "outputs": [],
   "source": [
    "from sklearn.model_selection import train_test_split, GridSearchCV\n",
    "from sklearn.preprocessing import StandardScaler\n",
    "from sklearn.preprocessing import MinMaxScaler\n",
    "from sklearn.pipeline import Pipeline\n",
    "from sklearn.ensemble import RandomForestClassifier\n",
    "from sklearn.metrics import classification_report\n",
    "from sklearn.metrics import confusion_matrix\n",
    "from sklearn.metrics import plot_confusion_matrix"
   ]
  },
  {
   "cell_type": "code",
   "execution_count": 3,
   "metadata": {},
   "outputs": [
    {
     "data": {
      "text/html": [
       "<div>\n",
       "<style scoped>\n",
       "    .dataframe tbody tr th:only-of-type {\n",
       "        vertical-align: middle;\n",
       "    }\n",
       "\n",
       "    .dataframe tbody tr th {\n",
       "        vertical-align: top;\n",
       "    }\n",
       "\n",
       "    .dataframe thead th {\n",
       "        text-align: right;\n",
       "    }\n",
       "</style>\n",
       "<table border=\"1\" class=\"dataframe\">\n",
       "  <thead>\n",
       "    <tr style=\"text-align: right;\">\n",
       "      <th></th>\n",
       "      <th>neo</th>\n",
       "      <th>pha</th>\n",
       "      <th>H</th>\n",
       "      <th>epoch</th>\n",
       "      <th>epoch_mjd</th>\n",
       "      <th>epoch_cal</th>\n",
       "      <th>e</th>\n",
       "      <th>a</th>\n",
       "      <th>q</th>\n",
       "      <th>i</th>\n",
       "      <th>...</th>\n",
       "      <th>class_AST</th>\n",
       "      <th>class_ATE</th>\n",
       "      <th>class_CEN</th>\n",
       "      <th>class_IEO</th>\n",
       "      <th>class_IMB</th>\n",
       "      <th>class_MBA</th>\n",
       "      <th>class_MCA</th>\n",
       "      <th>class_OMB</th>\n",
       "      <th>class_TJN</th>\n",
       "      <th>class_TNO</th>\n",
       "    </tr>\n",
       "  </thead>\n",
       "  <tbody>\n",
       "    <tr>\n",
       "      <th>0</th>\n",
       "      <td>0</td>\n",
       "      <td>0</td>\n",
       "      <td>3.40</td>\n",
       "      <td>2458600.5</td>\n",
       "      <td>58600</td>\n",
       "      <td>20190427.0</td>\n",
       "      <td>0.076009</td>\n",
       "      <td>2.769165</td>\n",
       "      <td>2.558684</td>\n",
       "      <td>10.594067</td>\n",
       "      <td>...</td>\n",
       "      <td>0</td>\n",
       "      <td>0</td>\n",
       "      <td>0</td>\n",
       "      <td>0</td>\n",
       "      <td>0</td>\n",
       "      <td>1</td>\n",
       "      <td>0</td>\n",
       "      <td>0</td>\n",
       "      <td>0</td>\n",
       "      <td>0</td>\n",
       "    </tr>\n",
       "    <tr>\n",
       "      <th>1</th>\n",
       "      <td>0</td>\n",
       "      <td>0</td>\n",
       "      <td>4.20</td>\n",
       "      <td>2459000.5</td>\n",
       "      <td>59000</td>\n",
       "      <td>20200531.0</td>\n",
       "      <td>0.229972</td>\n",
       "      <td>2.773841</td>\n",
       "      <td>2.135935</td>\n",
       "      <td>34.832932</td>\n",
       "      <td>...</td>\n",
       "      <td>0</td>\n",
       "      <td>0</td>\n",
       "      <td>0</td>\n",
       "      <td>0</td>\n",
       "      <td>0</td>\n",
       "      <td>1</td>\n",
       "      <td>0</td>\n",
       "      <td>0</td>\n",
       "      <td>0</td>\n",
       "      <td>0</td>\n",
       "    </tr>\n",
       "    <tr>\n",
       "      <th>2</th>\n",
       "      <td>0</td>\n",
       "      <td>0</td>\n",
       "      <td>5.33</td>\n",
       "      <td>2459000.5</td>\n",
       "      <td>59000</td>\n",
       "      <td>20200531.0</td>\n",
       "      <td>0.256936</td>\n",
       "      <td>2.668285</td>\n",
       "      <td>1.982706</td>\n",
       "      <td>12.991043</td>\n",
       "      <td>...</td>\n",
       "      <td>0</td>\n",
       "      <td>0</td>\n",
       "      <td>0</td>\n",
       "      <td>0</td>\n",
       "      <td>0</td>\n",
       "      <td>1</td>\n",
       "      <td>0</td>\n",
       "      <td>0</td>\n",
       "      <td>0</td>\n",
       "      <td>0</td>\n",
       "    </tr>\n",
       "    <tr>\n",
       "      <th>3</th>\n",
       "      <td>0</td>\n",
       "      <td>0</td>\n",
       "      <td>3.00</td>\n",
       "      <td>2458600.5</td>\n",
       "      <td>58600</td>\n",
       "      <td>20190427.0</td>\n",
       "      <td>0.088721</td>\n",
       "      <td>2.361418</td>\n",
       "      <td>2.151909</td>\n",
       "      <td>7.141771</td>\n",
       "      <td>...</td>\n",
       "      <td>0</td>\n",
       "      <td>0</td>\n",
       "      <td>0</td>\n",
       "      <td>0</td>\n",
       "      <td>0</td>\n",
       "      <td>1</td>\n",
       "      <td>0</td>\n",
       "      <td>0</td>\n",
       "      <td>0</td>\n",
       "      <td>0</td>\n",
       "    </tr>\n",
       "    <tr>\n",
       "      <th>4</th>\n",
       "      <td>0</td>\n",
       "      <td>0</td>\n",
       "      <td>6.90</td>\n",
       "      <td>2459000.5</td>\n",
       "      <td>59000</td>\n",
       "      <td>20200531.0</td>\n",
       "      <td>0.190913</td>\n",
       "      <td>2.574037</td>\n",
       "      <td>2.082619</td>\n",
       "      <td>5.367427</td>\n",
       "      <td>...</td>\n",
       "      <td>0</td>\n",
       "      <td>0</td>\n",
       "      <td>0</td>\n",
       "      <td>0</td>\n",
       "      <td>0</td>\n",
       "      <td>1</td>\n",
       "      <td>0</td>\n",
       "      <td>0</td>\n",
       "      <td>0</td>\n",
       "      <td>0</td>\n",
       "    </tr>\n",
       "  </tbody>\n",
       "</table>\n",
       "<p>5 rows × 45 columns</p>\n",
       "</div>"
      ],
      "text/plain": [
       "   neo  pha     H      epoch  epoch_mjd   epoch_cal         e         a  \\\n",
       "0    0    0  3.40  2458600.5      58600  20190427.0  0.076009  2.769165   \n",
       "1    0    0  4.20  2459000.5      59000  20200531.0  0.229972  2.773841   \n",
       "2    0    0  5.33  2459000.5      59000  20200531.0  0.256936  2.668285   \n",
       "3    0    0  3.00  2458600.5      58600  20190427.0  0.088721  2.361418   \n",
       "4    0    0  6.90  2459000.5      59000  20200531.0  0.190913  2.574037   \n",
       "\n",
       "          q          i  ...  class_AST  class_ATE  class_CEN  class_IEO  \\\n",
       "0  2.558684  10.594067  ...          0          0          0          0   \n",
       "1  2.135935  34.832932  ...          0          0          0          0   \n",
       "2  1.982706  12.991043  ...          0          0          0          0   \n",
       "3  2.151909   7.141771  ...          0          0          0          0   \n",
       "4  2.082619   5.367427  ...          0          0          0          0   \n",
       "\n",
       "   class_IMB  class_MBA  class_MCA  class_OMB  class_TJN  class_TNO  \n",
       "0          0          1          0          0          0          0  \n",
       "1          0          1          0          0          0          0  \n",
       "2          0          1          0          0          0          0  \n",
       "3          0          1          0          0          0          0  \n",
       "4          0          1          0          0          0          0  \n",
       "\n",
       "[5 rows x 45 columns]"
      ]
     },
     "execution_count": 3,
     "metadata": {},
     "output_type": "execute_result"
    }
   ],
   "source": [
    "df = pd.read_csv('data/data_no_fliers.csv')\n",
    "df.drop('Unnamed: 0', axis=1, inplace=True)\n",
    "df.head()"
   ]
  },
  {
   "cell_type": "code",
   "execution_count": 4,
   "metadata": {},
   "outputs": [
    {
     "name": "stdout",
     "output_type": "stream",
     "text": [
      "<class 'pandas.core.frame.DataFrame'>\n",
      "RangeIndex: 921430 entries, 0 to 921429\n",
      "Data columns (total 45 columns):\n",
      " #   Column     Non-Null Count   Dtype  \n",
      "---  ------     --------------   -----  \n",
      " 0   neo        921430 non-null  int64  \n",
      " 1   pha        921430 non-null  int64  \n",
      " 2   H          921430 non-null  float64\n",
      " 3   epoch      921430 non-null  float64\n",
      " 4   epoch_mjd  921430 non-null  int64  \n",
      " 5   epoch_cal  921430 non-null  float64\n",
      " 6   e          921430 non-null  float64\n",
      " 7   a          921430 non-null  float64\n",
      " 8   q          921430 non-null  float64\n",
      " 9   i          921430 non-null  float64\n",
      " 10  om         921430 non-null  float64\n",
      " 11  w          921430 non-null  float64\n",
      " 12  ma         921430 non-null  float64\n",
      " 13  ad         921430 non-null  float64\n",
      " 14  n          921430 non-null  float64\n",
      " 15  tp         921430 non-null  float64\n",
      " 16  tp_cal     921430 non-null  float64\n",
      " 17  per        921430 non-null  float64\n",
      " 18  per_y      921430 non-null  float64\n",
      " 19  moid       921430 non-null  float64\n",
      " 20  moid_ld    921430 non-null  float64\n",
      " 21  sigma_e    921430 non-null  float64\n",
      " 22  sigma_a    921430 non-null  float64\n",
      " 23  sigma_q    921430 non-null  float64\n",
      " 24  sigma_i    921430 non-null  float64\n",
      " 25  sigma_om   921430 non-null  float64\n",
      " 26  sigma_w    921430 non-null  float64\n",
      " 27  sigma_ma   921430 non-null  float64\n",
      " 28  sigma_ad   921430 non-null  float64\n",
      " 29  sigma_n    921430 non-null  float64\n",
      " 30  sigma_tp   921430 non-null  float64\n",
      " 31  sigma_per  921430 non-null  float64\n",
      " 32  rms        921430 non-null  float64\n",
      " 33  class_AMO  921430 non-null  int64  \n",
      " 34  class_APO  921430 non-null  int64  \n",
      " 35  class_AST  921430 non-null  int64  \n",
      " 36  class_ATE  921430 non-null  int64  \n",
      " 37  class_CEN  921430 non-null  int64  \n",
      " 38  class_IEO  921430 non-null  int64  \n",
      " 39  class_IMB  921430 non-null  int64  \n",
      " 40  class_MBA  921430 non-null  int64  \n",
      " 41  class_MCA  921430 non-null  int64  \n",
      " 42  class_OMB  921430 non-null  int64  \n",
      " 43  class_TJN  921430 non-null  int64  \n",
      " 44  class_TNO  921430 non-null  int64  \n",
      "dtypes: float64(30), int64(15)\n",
      "memory usage: 316.3 MB\n"
     ]
    }
   ],
   "source": [
    "df.info()"
   ]
  },
  {
   "cell_type": "code",
   "execution_count": 5,
   "metadata": {},
   "outputs": [],
   "source": [
    "X = df.drop('pha', axis=1)\n",
    "y = df['pha']\n",
    "\n",
    "X_train, X_test, y_train, y_test = train_test_split(X, y, test_size=0.25, random_state=42)"
   ]
  },
  {
   "cell_type": "code",
   "execution_count": 6,
   "metadata": {},
   "outputs": [],
   "source": [
    "ss = StandardScaler()\n",
    "\n",
    "X_train_scaled = ss.fit_transform(X_train)\n",
    "X_test_scaled = ss.transform(X_test)"
   ]
  },
  {
   "cell_type": "code",
   "execution_count": 7,
   "metadata": {},
   "outputs": [
    {
     "data": {
      "text/plain": [
       "RandomForestClassifier(class_weight={0: 1, 1: 200})"
      ]
     },
     "execution_count": 7,
     "metadata": {},
     "output_type": "execute_result"
    }
   ],
   "source": [
    "RF = RandomForestClassifier(class_weight={0:1, 1:200})\n",
    "RF.fit(X_train_scaled, y_train)"
   ]
  },
  {
   "cell_type": "code",
   "execution_count": 8,
   "metadata": {},
   "outputs": [
    {
     "name": "stdout",
     "output_type": "stream",
     "text": [
      "Train Report\n",
      "              precision    recall  f1-score   support\n",
      "\n",
      "           0       1.00      1.00      1.00    689548\n",
      "           1       1.00      1.00      1.00      1524\n",
      "\n",
      "    accuracy                           1.00    691072\n",
      "   macro avg       1.00      1.00      1.00    691072\n",
      "weighted avg       1.00      1.00      1.00    691072\n",
      "\n",
      "\n",
      "\n",
      "Test Report\n",
      "              precision    recall  f1-score   support\n",
      "\n",
      "           0       1.00      1.00      1.00    229817\n",
      "           1       0.97      0.97      0.97       541\n",
      "\n",
      "    accuracy                           1.00    230358\n",
      "   macro avg       0.99      0.98      0.99    230358\n",
      "weighted avg       1.00      1.00      1.00    230358\n",
      "\n"
     ]
    }
   ],
   "source": [
    "y_pred = RF.predict(X_test_scaled)\n",
    "\n",
    "print('Train Report')\n",
    "print(classification_report(y_train, RF.predict(X_train_scaled)))\n",
    "print('\\n')\n",
    "print('Test Report')\n",
    "print(classification_report(y_test, y_pred))"
   ]
  },
  {
   "cell_type": "code",
   "execution_count": 9,
   "metadata": {},
   "outputs": [
    {
     "data": {
      "image/png": "[encoded data removed]",
      "text/plain": [
       "<Figure size 432x288 with 2 Axes>"
      ]
     },
     "metadata": {
      "needs_background": "light"
     },
     "output_type": "display_data"
    }
   ],
   "source": [
    "plot_confusion_matrix(RF, X_test_scaled, y_test, cmap=plt.cm.Blues, \n",
    "                      display_labels=['Non-Hazardous', 'Potentially Hazardous'], xticks_rotation=45.0);"
   ]
  },
  {
   "cell_type": "code",
   "execution_count": 10,
   "metadata": {},
   "outputs": [
    {
     "name": "stdout",
     "output_type": "stream",
     "text": [
      "Mean depth: 25.76\n"
     ]
    },
    {
     "data": {
      "text/plain": [
       "[22,\n",
       " 31,\n",
       " 41,\n",
       " 22,\n",
       " 22,\n",
       " 23,\n",
       " 23,\n",
       " 20,\n",
       " 20,\n",
       " 33,\n",
       " 26,\n",
       " 28,\n",
       " 29,\n",
       " 26,\n",
       " 23,\n",
       " 20,\n",
       " 29,\n",
       " 20,\n",
       " 31,\n",
       " 26,\n",
       " 17,\n",
       " 34,\n",
       " 23,\n",
       " 22,\n",
       " 23,\n",
       " 17,\n",
       " 19,\n",
       " 24,\n",
       " 25,\n",
       " 35,\n",
       " 22,\n",
       " 22,\n",
       " 25,\n",
       " 28,\n",
       " 18,\n",
       " 24,\n",
       " 31,\n",
       " 24,\n",
       " 23,\n",
       " 22,\n",
       " 25,\n",
       " 26,\n",
       " 25,\n",
       " 22,\n",
       " 37,\n",
       " 20,\n",
       " 21,\n",
       " 25,\n",
       " 30,\n",
       " 26,\n",
       " 21,\n",
       " 24,\n",
       " 33,\n",
       " 27,\n",
       " 29,\n",
       " 18,\n",
       " 29,\n",
       " 31,\n",
       " 31,\n",
       " 28,\n",
       " 29,\n",
       " 29,\n",
       " 34,\n",
       " 32,\n",
       " 20,\n",
       " 19,\n",
       " 21,\n",
       " 23,\n",
       " 35,\n",
       " 26,\n",
       " 20,\n",
       " 33,\n",
       " 22,\n",
       " 29,\n",
       " 25,\n",
       " 23,\n",
       " 25,\n",
       " 26,\n",
       " 28,\n",
       " 21,\n",
       " 33,\n",
       " 22,\n",
       " 38,\n",
       " 23,\n",
       " 32,\n",
       " 24,\n",
       " 32,\n",
       " 24,\n",
       " 20,\n",
       " 24,\n",
       " 31,\n",
       " 23,\n",
       " 21,\n",
       " 24,\n",
       " 16,\n",
       " 32,\n",
       " 25,\n",
       " 33,\n",
       " 24,\n",
       " 34]"
      ]
     },
     "execution_count": 10,
     "metadata": {},
     "output_type": "execute_result"
    }
   ],
   "source": [
    "depths = [estimator.tree_.max_depth for estimator in RF.estimators_]\n",
    "print('Mean depth:', np.mean(depths))\n",
    "depths"
   ]
  },
  {
   "cell_type": "code",
   "execution_count": 11,
   "metadata": {},
   "outputs": [
    {
     "data": {
      "text/plain": [
       "{'bootstrap': True,\n",
       " 'ccp_alpha': 0.0,\n",
       " 'class_weight': {0: 1, 1: 200},\n",
       " 'criterion': 'gini',\n",
       " 'max_depth': None,\n",
       " 'max_features': 'auto',\n",
       " 'max_leaf_nodes': None,\n",
       " 'max_samples': None,\n",
       " 'min_impurity_decrease': 0.0,\n",
       " 'min_impurity_split': None,\n",
       " 'min_samples_leaf': 1,\n",
       " 'min_samples_split': 2,\n",
       " 'min_weight_fraction_leaf': 0.0,\n",
       " 'n_estimators': 100,\n",
       " 'n_jobs': None,\n",
       " 'oob_score': False,\n",
       " 'random_state': None,\n",
       " 'verbose': 0,\n",
       " 'warm_start': False}"
      ]
     },
     "execution_count": 11,
     "metadata": {},
     "output_type": "execute_result"
    }
   ],
   "source": [
    "RF.get_params()"
   ]
  },
  {
   "cell_type": "markdown",
   "metadata": {},
   "source": [
    "### Iteration 2"
   ]
  },
  {
   "cell_type": "code",
   "execution_count": 16,
   "metadata": {},
   "outputs": [],
   "source": [
    "RF2 = RandomForestClassifier(class_weight={0:1, 1:200})\n",
    "\n",
    "param_grid = {\n",
    "    'n_estimators': [50, 100],\n",
    "    'max_depth': [7, 14, 21],\n",
    "    'min_samples_leaf': [1, 3, 6],\n",
    "}\n",
    "\n",
    "RF2_grid = GridSearchCV(RF2, param_grid=param_grid, cv=3, scoring='recall')"
   ]
  },
  {
   "cell_type": "code",
   "execution_count": 17,
   "metadata": {},
   "outputs": [
    {
     "data": {
      "text/plain": [
       "GridSearchCV(cv=3,\n",
       "             estimator=RandomForestClassifier(class_weight={0: 1, 1: 200}),\n",
       "             param_grid={'max_depth': [7, 14, 21],\n",
       "                         'min_samples_leaf': [1, 3, 6],\n",
       "                         'n_estimators': [50, 100]},\n",
       "             scoring='recall')"
      ]
     },
     "execution_count": 17,
     "metadata": {},
     "output_type": "execute_result"
    }
   ],
   "source": [
    "RF2_grid.fit(X_train_scaled, y_train)"
   ]
  },
  {
   "cell_type": "code",
   "execution_count": 18,
   "metadata": {},
   "outputs": [
    {
     "name": "stdout",
     "output_type": "stream",
     "text": [
      "Train Report\n",
      "              precision    recall  f1-score   support\n",
      "\n",
      "           0       1.00      1.00      1.00    689548\n",
      "           1       0.83      1.00      0.91      1524\n",
      "\n",
      "    accuracy                           1.00    691072\n",
      "   macro avg       0.92      1.00      0.95    691072\n",
      "weighted avg       1.00      1.00      1.00    691072\n",
      "\n",
      "\n",
      "\n",
      "Test Report\n",
      "              precision    recall  f1-score   support\n",
      "\n",
      "           0       1.00      1.00      1.00    229817\n",
      "           1       0.81      0.99      0.89       541\n",
      "\n",
      "    accuracy                           1.00    230358\n",
      "   macro avg       0.91      1.00      0.95    230358\n",
      "weighted avg       1.00      1.00      1.00    230358\n",
      "\n"
     ]
    }
   ],
   "source": [
    "y_pred = RF2_grid.predict(X_test_scaled)\n",
    "\n",
    "print('Train Report')\n",
    "print(classification_report(y_train, RF2_grid.predict(X_train_scaled)))\n",
    "print('\\n')\n",
    "print('Test Report')\n",
    "print(classification_report(y_test, y_pred))"
   ]
  },
  {
   "cell_type": "code",
   "execution_count": 20,
   "metadata": {},
   "outputs": [
    {
     "data": {
      "image/png": "[encoded data removed]",
      "text/plain": [
       "<Figure size 432x288 with 2 Axes>"
      ]
     },
     "metadata": {
      "needs_background": "light"
     },
     "output_type": "display_data"
    }
   ],
   "source": [
    "plot_confusion_matrix(RF2_grid, X_test_scaled, y_test, cmap=plt.cm.Blues, \n",
    "                      display_labels=['Non-Hazardous', 'Potentially Hazardous'], xticks_rotation=45.0);"
   ]
  },
  {
   "cell_type": "code",
   "execution_count": 19,
   "metadata": {},
   "outputs": [
    {
     "data": {
      "text/plain": [
       "{'max_depth': 7, 'min_samples_leaf': 3, 'n_estimators': 100}"
      ]
     },
     "execution_count": 19,
     "metadata": {},
     "output_type": "execute_result"
    }
   ],
   "source": [
    "RF2_grid.best_params_"
   ]
  },
  {
   "cell_type": "markdown",
   "metadata": {},
   "source": [
    "### Iteration 3"
   ]
  },
  {
   "cell_type": "code",
   "execution_count": 25,
   "metadata": {},
   "outputs": [],
   "source": [
    "RF3 = RandomForestClassifier(random_state=123)\n",
    "\n",
    "class_weights = ['balanced', {0:1, 1:200}]\n",
    "\n",
    "param_grid = {\n",
    "    'class_weight': class_weights,\n",
    "    'max_depth': [7, 8, 9],\n",
    "    'min_samples_leaf': [2, 3, 4, 5]\n",
    "}\n",
    "\n",
    "RF3_grid = GridSearchCV(RF3, param_grid=param_grid, cv=3, scoring='recall')"
   ]
  },
  {
   "cell_type": "code",
   "execution_count": 26,
   "metadata": {},
   "outputs": [
    {
     "data": {
      "text/plain": [
       "GridSearchCV(cv=3, estimator=RandomForestClassifier(random_state=123),\n",
       "             param_grid={'class_weight': ['balanced', {0: 1, 1: 200}],\n",
       "                         'max_depth': [7, 8, 9],\n",
       "                         'min_samples_leaf': [2, 3, 4, 5]},\n",
       "             scoring='recall')"
      ]
     },
     "execution_count": 26,
     "metadata": {},
     "output_type": "execute_result"
    }
   ],
   "source": [
    "RF3_grid.fit(X_train_scaled, y_train)"
   ]
  },
  {
   "cell_type": "code",
   "execution_count": 27,
   "metadata": {},
   "outputs": [
    {
     "name": "stdout",
     "output_type": "stream",
     "text": [
      "Train Report\n",
      "              precision    recall  f1-score   support\n",
      "\n",
      "           0       1.00      1.00      1.00    689548\n",
      "           1       0.87      1.00      0.93      1524\n",
      "\n",
      "    accuracy                           1.00    691072\n",
      "   macro avg       0.93      1.00      0.96    691072\n",
      "weighted avg       1.00      1.00      1.00    691072\n",
      "\n",
      "\n",
      "\n",
      "Test Report\n",
      "              precision    recall  f1-score   support\n",
      "\n",
      "           0       1.00      1.00      1.00    229817\n",
      "           1       0.85      0.99      0.92       541\n",
      "\n",
      "    accuracy                           1.00    230358\n",
      "   macro avg       0.92      1.00      0.96    230358\n",
      "weighted avg       1.00      1.00      1.00    230358\n",
      "\n"
     ]
    }
   ],
   "source": [
    "y_pred = RF3_grid.predict(X_test_scaled)\n",
    "\n",
    "print('Train Report')\n",
    "print(classification_report(y_train, RF3_grid.predict(X_train_scaled)))\n",
    "print('\\n')\n",
    "print('Test Report')\n",
    "print(classification_report(y_test, y_pred))"
   ]
  },
  {
   "cell_type": "code",
   "execution_count": 28,
   "metadata": {},
   "outputs": [
    {
     "data": {
      "image/png": "[encoded data removed]",
      "text/plain": [
       "<Figure size 432x288 with 2 Axes>"
      ]
     },
     "metadata": {
      "needs_background": "light"
     },
     "output_type": "display_data"
    }
   ],
   "source": [
    "plot_confusion_matrix(RF3_grid, X_test_scaled, y_test, cmap=plt.cm.Blues, \n",
    "                      display_labels=['Non-Hazardous', 'Potentially Hazardous'], xticks_rotation=45.0);"
   ]
  },
  {
   "cell_type": "code",
   "execution_count": 30,
   "metadata": {},
   "outputs": [
    {
     "data": {
      "text/plain": [
       "{'class_weight': 'balanced', 'max_depth': 7, 'min_samples_leaf': 5}"
      ]
     },
     "execution_count": 30,
     "metadata": {},
     "output_type": "execute_result"
    }
   ],
   "source": [
    "RF3_grid.best_params_"
   ]
  },
  {
   "cell_type": "markdown",
   "metadata": {},
   "source": [
    "### Iteration 4"
   ]
  },
  {
   "cell_type": "markdown",
   "metadata": {},
   "source": [
    "Last gridsearch will prioritize f1 to see if some of the false positives in the previous iteration can be addressed. Continuing to prioritize recall may only increase false positives with little to no benefits in recall for the positive class, as seen with the decision tree model."
   ]
  },
  {
   "cell_type": "code",
   "execution_count": 63,
   "metadata": {},
   "outputs": [],
   "source": [
    "RF4 = RandomForestClassifier(random_state=123, class_weight='balanced')\n",
    "\n",
    "param_grid = {\n",
    "    'max_depth': [7, 8, 9],\n",
    "    'min_samples_leaf': [3, 4, 5]\n",
    "}\n",
    "\n",
    "RF4_grid = GridSearchCV(RF4, param_grid=param_grid, cv=3, scoring='f1')"
   ]
  },
  {
   "cell_type": "code",
   "execution_count": 64,
   "metadata": {},
   "outputs": [
    {
     "data": {
      "text/plain": [
       "GridSearchCV(cv=3,\n",
       "             estimator=RandomForestClassifier(class_weight='balanced',\n",
       "                                              random_state=123),\n",
       "             param_grid={'max_depth': [7, 8, 9], 'min_samples_leaf': [3, 4, 5]},\n",
       "             scoring='f1')"
      ]
     },
     "execution_count": 64,
     "metadata": {},
     "output_type": "execute_result"
    }
   ],
   "source": [
    "RF4_grid.fit(X_train_scaled, y_train)"
   ]
  },
  {
   "cell_type": "code",
   "execution_count": 65,
   "metadata": {},
   "outputs": [
    {
     "name": "stdout",
     "output_type": "stream",
     "text": [
      "Train Report\n",
      "              precision    recall  f1-score   support\n",
      "\n",
      "           0       1.00      1.00      1.00    689548\n",
      "           1       0.91      1.00      0.95      1524\n",
      "\n",
      "    accuracy                           1.00    691072\n",
      "   macro avg       0.95      1.00      0.98    691072\n",
      "weighted avg       1.00      1.00      1.00    691072\n",
      "\n",
      "\n",
      "\n",
      "Test Report\n",
      "              precision    recall  f1-score   support\n",
      "\n",
      "           0       1.00      1.00      1.00    229817\n",
      "           1       0.90      0.99      0.95       541\n",
      "\n",
      "    accuracy                           1.00    230358\n",
      "   macro avg       0.95      1.00      0.97    230358\n",
      "weighted avg       1.00      1.00      1.00    230358\n",
      "\n"
     ]
    }
   ],
   "source": [
    "y_pred = RF4_grid.predict(X_test_scaled)\n",
    "\n",
    "print('Train Report')\n",
    "print(classification_report(y_train, RF4_grid.predict(X_train_scaled)))\n",
    "print('\\n')\n",
    "print('Test Report')\n",
    "print(classification_report(y_test, y_pred))"
   ]
  },
  {
   "cell_type": "code",
   "execution_count": 66,
   "metadata": {},
   "outputs": [
    {
     "data": {
      "image/png": "[encoded data removed]",
      "text/plain": [
       "<Figure size 432x288 with 2 Axes>"
      ]
     },
     "metadata": {
      "needs_background": "light"
     },
     "output_type": "display_data"
    }
   ],
   "source": [
    "plot_confusion_matrix(RF4_grid, X_test_scaled, y_test, cmap=plt.cm.Blues, \n",
    "                      display_labels=['Non-Hazardous', 'Potentially Hazardous'], xticks_rotation=45.0);"
   ]
  },
  {
   "cell_type": "code",
   "execution_count": 67,
   "metadata": {},
   "outputs": [
    {
     "data": {
      "text/plain": [
       "{'max_depth': 9, 'min_samples_leaf': 5}"
      ]
     },
     "execution_count": 67,
     "metadata": {},
     "output_type": "execute_result"
    }
   ],
   "source": [
    "RF4_grid.best_params_"
   ]
  },
  {
   "cell_type": "markdown",
   "metadata": {},
   "source": [
    "This model has caused us to miss more potentially hazardous asteroids than the previous iteration (11 as opposed to 3), but it has misclassified fewer non-hazardous asteroids (5 as opposed to 96)"
   ]
  },
  {
   "cell_type": "code",
   "execution_count": 76,
   "metadata": {},
   "outputs": [
    {
     "data": {
      "text/plain": [
       "RandomForestClassifier(class_weight='balanced', max_depth=9, min_samples_leaf=5,\n",
       "                       random_state=123)"
      ]
     },
     "execution_count": 76,
     "metadata": {},
     "output_type": "execute_result"
    }
   ],
   "source": [
    "RF4 = RandomForestClassifier(random_state=123, class_weight='balanced', max_depth=9, min_samples_leaf=5)\n",
    "\n",
    "RF4.fit(X_train_scaled, y_train)"
   ]
  },
  {
   "cell_type": "code",
   "execution_count": 88,
   "metadata": {},
   "outputs": [
    {
     "data": {
      "image/png": "[encoded data removed]",
      "text/plain": [
       "<Figure size 1440x1080 with 1 Axes>"
      ]
     },
     "metadata": {
      "needs_background": "light"
     },
     "output_type": "display_data"
    }
   ],
   "source": [
    "plt.figure(figsize=(20, 15))\n",
    "sns.barplot(x = RF4.feature_importances_, \n",
    "            y = X.columns, color='#3a15a2')\n",
    "plt.title('Feature Importances');"
   ]
  },
  {
   "cell_type": "code",
   "execution_count": 84,
   "metadata": {},
   "outputs": [],
   "source": [
    "from sklearn.decomposition import PCA\n",
    "\n",
    "pca = PCA(n_components=5)\n",
    "X_transformed = pca.fit_transform(X_train_scaled)"
   ]
  },
  {
   "cell_type": "code",
   "execution_count": 85,
   "metadata": {},
   "outputs": [
    {
     "data": {
      "text/plain": [
       "array([0.1923821 , 0.1871006 , 0.10444   , 0.06104342, 0.04053108])"
      ]
     },
     "execution_count": 85,
     "metadata": {},
     "output_type": "execute_result"
    }
   ],
   "source": [
    "pca.explained_variance_ratio_"
   ]
  },
  {
   "cell_type": "code",
   "execution_count": 86,
   "metadata": {},
   "outputs": [
    {
     "data": {
      "text/plain": [
       "array([[ 5.39993209e-03,  1.46411750e-02,  1.77168231e-02,\n",
       "        -1.66377838e-02, -1.66377838e-02, -1.66518164e-02,\n",
       "         1.18210864e-02, -2.10932444e-02, -2.19459741e-02,\n",
       "        -9.19693855e-04, -1.19584345e-04, -2.03113517e-04,\n",
       "        -8.38767030e-04, -1.45876649e-02,  1.97660638e-02,\n",
       "        -1.47566017e-02, -1.46977673e-02, -2.06126463e-02,\n",
       "        -2.06126463e-02, -2.17111299e-02, -2.17111299e-02,\n",
       "         2.66152582e-01,  3.25723553e-01,  2.61756620e-01,\n",
       "         2.95227190e-01,  2.18562364e-01,  3.27219898e-01,\n",
       "         3.13872496e-01,  3.25037545e-01,  3.10347825e-01,\n",
       "         3.15171364e-01,  3.27176053e-01,  7.00759043e-05,\n",
       "         7.28420866e-03,  1.14442119e-02, -5.51128428e-04,\n",
       "         5.72387650e-03, -1.86798610e-03,  7.62591817e-04,\n",
       "         5.34923748e-03, -8.93020589e-03,  5.16594128e-03,\n",
       "        -5.69374489e-03, -4.00662430e-03,  0.00000000e+00],\n",
       "       [-5.72661023e-02, -2.08558562e-01, -2.44353280e-01,\n",
       "         7.84070675e-02,  7.84070675e-02,  7.86768887e-02,\n",
       "        -1.61123760e-01,  3.19997278e-01,  3.22798372e-01,\n",
       "         6.95191919e-03, -3.15301475e-03, -7.12218978e-04,\n",
       "         1.03147944e-02,  2.30295825e-01, -2.96760724e-01,\n",
       "         7.08635707e-02,  7.06578494e-02,  3.13418200e-01,\n",
       "         3.13418200e-01,  3.19324382e-01,  3.19324382e-01,\n",
       "         1.92173179e-02,  2.33072680e-02,  1.89150821e-02,\n",
       "         2.10960920e-02,  1.57755007e-02,  2.35354980e-02,\n",
       "         2.25189352e-02,  2.32539936e-02,  2.21401558e-02,\n",
       "         2.26543083e-02,  2.34312560e-02, -5.28508843e-04,\n",
       "        -1.03669790e-01, -1.61222480e-01,  9.86837332e-03,\n",
       "        -8.65513237e-02,  3.08726354e-02, -1.12341801e-02,\n",
       "        -8.49098033e-02,  1.23494384e-01, -7.21263062e-02,\n",
       "         9.20211543e-02,  6.42984808e-02, -0.00000000e+00],\n",
       "       [ 9.28922151e-02,  5.21253858e-02,  6.81325170e-02,\n",
       "        -4.27988312e-01, -4.27988312e-01, -4.27823988e-01,\n",
       "         6.54839647e-02,  1.10408583e-01,  4.99646937e-02,\n",
       "         4.00691039e-02,  1.14413128e-03,  2.82165683e-04,\n",
       "        -6.74312205e-02,  1.33942514e-01, -6.63305109e-02,\n",
       "        -4.10634674e-01, -4.08583115e-01,  1.15762247e-01,\n",
       "         1.15762247e-01,  5.55865013e-02,  5.55865013e-02,\n",
       "        -5.82725016e-03, -7.46119183e-03, -5.91613145e-03,\n",
       "        -5.60446453e-03, -4.75111264e-03, -8.44220306e-03,\n",
       "        -8.43581405e-03, -7.19454061e-03, -7.64621910e-03,\n",
       "        -8.34153835e-03, -7.32787605e-03, -4.00913082e-03,\n",
       "         3.14639159e-02,  5.07620431e-02,  1.33016167e-02,\n",
       "        -1.84549199e-02,  3.28161079e-02, -1.77214260e-03,\n",
       "        -3.88083255e-02, -6.45393299e-02,  2.28508614e-02,\n",
       "         6.71264142e-02,  4.67408442e-02, -0.00000000e+00],\n",
       "       [ 1.95122628e-01,  3.33295080e-01,  1.52208136e-01,\n",
       "         1.13414017e-01,  1.13414017e-01,  1.13056517e-01,\n",
       "         3.66057838e-01,  1.70473543e-01, -6.41616269e-02,\n",
       "         2.14604331e-01,  8.98786532e-04,  1.81658742e-03,\n",
       "         3.31719100e-02,  3.32180037e-01, -1.01660652e-02,\n",
       "         1.29560694e-01,  1.28863593e-01,  1.97858495e-01,\n",
       "         1.97858495e-01, -3.66663791e-02, -3.66663791e-02,\n",
       "         1.17611411e-03,  1.52425636e-03,  1.13729240e-03,\n",
       "         9.51593007e-04,  1.14234117e-03,  1.22577859e-03,\n",
       "         1.11448304e-03,  1.66823841e-03,  1.15713151e-03,\n",
       "         1.14545504e-03,  1.63762006e-03,  5.52280889e-04,\n",
       "         2.21863589e-01,  2.51105524e-01,  4.23489012e-02,\n",
       "         3.31885840e-02,  1.14663674e-01,  2.89662333e-03,\n",
       "        -3.15980148e-02, -3.69545264e-01,  1.15772388e-01,\n",
       "         2.37707701e-01,  1.19123657e-01, -0.00000000e+00],\n",
       "       [ 2.10400569e-02, -5.23840019e-02, -4.39639995e-02,\n",
       "        -1.58061086e-02, -1.58061086e-02, -1.53968865e-02,\n",
       "        -3.44383308e-01, -6.24170045e-02,  1.43960508e-01,\n",
       "         2.95217641e-01,  7.26118815e-03, -3.01787043e-03,\n",
       "         2.48793204e-02, -2.28504313e-01,  1.72219588e-01,\n",
       "        -5.89452194e-03, -4.77242989e-03, -4.07272199e-02,\n",
       "        -4.07272199e-02,  1.57627627e-01,  1.57627627e-01,\n",
       "        -1.57394968e-03,  1.30346160e-03, -1.11163394e-03,\n",
       "         1.17642849e-04, -3.32574380e-03, -8.22097059e-04,\n",
       "         4.26502011e-04,  1.24891762e-03,  1.69693274e-03,\n",
       "        -4.02751097e-04,  1.21257737e-03,  1.22246219e-02,\n",
       "        -4.29565132e-02, -8.81388999e-02, -1.27174776e-02,\n",
       "         1.40792635e-01, -5.37967181e-02,  3.05946346e-02,\n",
       "         5.20208798e-01, -4.60460301e-01,  1.06371025e-01,\n",
       "         3.10809321e-01,  6.31524502e-02,  0.00000000e+00]])"
      ]
     },
     "execution_count": 86,
     "metadata": {},
     "output_type": "execute_result"
    }
   ],
   "source": [
    "pca.components_"
   ]
  },
  {
   "cell_type": "code",
   "execution_count": 87,
   "metadata": {},
   "outputs": [
    {
     "data": {
      "text/plain": [
       "Unnamed: 0   -0.057266\n",
       "neo          -0.208559\n",
       "H            -0.244353\n",
       "epoch         0.078407\n",
       "epoch_mjd     0.078407\n",
       "epoch_cal     0.078677\n",
       "e            -0.161124\n",
       "a             0.319997\n",
       "q             0.322798\n",
       "i             0.006952\n",
       "om           -0.003153\n",
       "w            -0.000712\n",
       "ma            0.010315\n",
       "ad            0.230296\n",
       "n            -0.296761\n",
       "tp            0.070864\n",
       "tp_cal        0.070658\n",
       "per           0.313418\n",
       "per_y         0.313418\n",
       "moid          0.319324\n",
       "moid_ld       0.319324\n",
       "sigma_e       0.019217\n",
       "sigma_a       0.023307\n",
       "sigma_q       0.018915\n",
       "sigma_i       0.021096\n",
       "sigma_om      0.015776\n",
       "sigma_w       0.023535\n",
       "sigma_ma      0.022519\n",
       "sigma_ad      0.023254\n",
       "sigma_n       0.022140\n",
       "sigma_tp      0.022654\n",
       "sigma_per     0.023431\n",
       "rms          -0.000529\n",
       "class_AMO    -0.103670\n",
       "class_APO    -0.161222\n",
       "class_AST     0.009868\n",
       "class_ATE    -0.086551\n",
       "class_CEN     0.030873\n",
       "class_IEO    -0.011234\n",
       "class_IMB    -0.084910\n",
       "class_MBA     0.123494\n",
       "class_MCA    -0.072126\n",
       "class_OMB     0.092021\n",
       "class_TJN     0.064298\n",
       "class_TNO    -0.000000\n",
       "Name: 1, dtype: float64"
      ]
     },
     "execution_count": 87,
     "metadata": {},
     "output_type": "execute_result"
    }
   ],
   "source": [
    "pd.DataFrame(data=pca.components_, columns=X.columns).iloc[1]"
   ]
  },
  {
   "cell_type": "code",
   "execution_count": null,
   "metadata": {},
   "outputs": [],
   "source": []
  }
 ],
 "metadata": {
  "kernelspec": {
   "display_name": "learn-env",
   "language": "python",
   "name": "learn-env"
  },
  "language_info": {
   "codemirror_mode": {
    "name": "ipython",
    "version": 3
   },
   "file_extension": ".py",
   "mimetype": "text/x-python",
   "name": "python",
   "nbconvert_exporter": "python",
   "pygments_lexer": "ipython3",
   "version": "3.8.5"
  }
 },
 "nbformat": 4,
 "nbformat_minor": 4
}
