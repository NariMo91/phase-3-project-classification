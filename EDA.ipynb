{
 "cells": [
  {
   "cell_type": "markdown",
   "metadata": {},
   "source": [
    "# EDA"
   ]
  },
  {
   "cell_type": "markdown",
   "metadata": {},
   "source": [
    "Data: https://www.kaggle.com/sakhawat18/asteroid-dataset"
   ]
  },
  {
   "cell_type": "code",
   "execution_count": 2,
   "metadata": {},
   "outputs": [],
   "source": [
    "import pandas as pd\n",
    "import numpy as np\n",
    "import seaborn as sns\n",
    "import matplotlib.pyplot as plt\n",
    "%matplotlib inline"
   ]
  },
  {
   "cell_type": "markdown",
   "metadata": {},
   "source": [
    "## Basic Column Definition\n",
    "- **SPK-ID**: Object primary SPK-ID\n",
    "- **Object ID**: Object internal database ID\n",
    "- **Object fullname**: Object full name/designation. Combination of provisional and permanent designation. Some asteroids do not yet have a permanent designation.\n",
    "- **pdes**: Object primary designation (most recent designation). Provisional designation or permanent designation (if available). When a new object is found that cannot be identified with an already-known object, Minor Planet Center (MPC) assigns a provisional designation- year of discovery, two letters, and further digits if needed (eg. 1989 AC). When orbit is well enough determined, object is assigned permanent designation- a number. https://web.archive.org/web/20060216182947/http://www.iau.org/MINOR_PLANETS_NAMING.245.0.html   \n",
    "- **name**: Object IAU name. Discoverer is invited to suggest a name only after object receives permanent designation.\n",
    "- **NEO**: Near-Earth Object (NEO) flag\n",
    "- **PHA**: Potentially Hazardous Asteroid (PHA) flag. Target.\n",
    "- **H**: Absolute magnitude parameter. Visual magnitude an observer would record if the asteroid were placed 1 Astronomical Unit (au) away, and 1 au from the Sun and at a zero phase angle (the magnitude of an asteroid at zero phase angle and at unit heliocentric and geocentric distances)\n",
    "- **Diameter**: object diameter (from equivalent sphere) km Unit\n",
    "- **Albedo**: Geometric albedo. Shininess/reflectiveness of the surface. https://www.nasa.gov/mission_pages/WISE/multimedia/gallery/neowise/pia14733.html\n",
    "- **Diameter_sigma**: 1-sigma uncertainty in object diameter km Unit\n",
    "- **Orbit_id**: Orbit solution ID\n",
    "- **Epoch**: Epoch of osculation in modified Julian day form\n",
    "- **Equinox**: Equinox of reference frame\n",
    "- **e**: Orbit eccentricity. Amount by which orbit deviates from a perfect circle (0 - circular, 0 to 1 - elliptic, 1 - parabolic escape, < 1 - hyperbola \n",
    "- **a**: Semi-major axis au Unit. One half of the major axis of the elliptical orbit; also the mean distance from the Sun\n",
    "- **q**: perihelion distance au Unit. Perihelion is orbit’s closest point to the Sun\n",
    "- **i**: inclination; angle with respect to x-y ecliptic plane\n",
    "- **tp**: Time of perihelion passage TDB Unit. The time at which an object is closest to the sun.\n",
    "- **moid_ld**: Earth Minimum Orbit Intersection Distance au Unit. Distance between closest points of orbits of asteroid and Earth. Direct measure of close approach/collision risk.\n",
    "- **class**: orbit classification\n",
    "\n",
    "#### Class values (orbit classifications)\n",
    "\n",
    "- AMO\tAmor:\tNear-Earth asteroid orbits similar to that of 1221 Amor (a > 1.0 AU; 1.017 AU < q < 1.3 AU).\n",
    "- APO\tApollo:\tNear-Earth asteroid orbits which cross the Earth's orbit similar to that of 1862 Apollo (a > 1.0 AU; q < 1.017 AU).\n",
    "- AST\tAsteroid:\tAsteroid orbit not matching any defined orbit class.\n",
    "- ATE\tAten:\tNear-Earth asteroid orbits similar to that of 2062 Aten (a < 1.0 AU; Q > 0.983 AU).\n",
    "- CEN\tCentaur:\tObjects with orbits between Jupiter and Neptune (5.5 AU < a < 30.1 AU).\n",
    "- HYA\tHyperbolic Asteroid:   Asteroids on hyperbolic orbits (e > 1.0).\n",
    "- IEO\tInterior Earth Object:   An asteroid orbit contained entirely within the orbit of the Earth (Q < 0.983 AU).\n",
    "- IMB\tInner Main-belt Asteroid:   Asteroids with orbital elements constrained by (a < 2.0 AU; q > 1.666 AU).\n",
    "- MBA\tMain-belt Asteroid:   Asteroids with orbital elements constrained by (2.0 AU < a < 3.2 AU; q > 1.666 AU).\n",
    "- MCA\tMars-crossing Asteroid:   Asteroids that cross the orbit of Mars constrained by (1.3 AU < q < 1.666 AU; a < 3.2 AU).\n",
    "- OMB\tOuter Main-belt Asteroid:   Asteroids with orbital elements constrained by (3.2 AU < a < 4.6 AU).\n",
    "- PAA\tParabolic Asteroid:   Asteroids on parabolic orbits (e = 1.0).\n",
    "- TJN\tJupiter Trojan:   Asteroids traped in Jupiter's L4/L5 Lagrange points (4.6 AU < a < 5.5 AU; e < 0.3).\n",
    "- TNO\tTransNeptunian Object:   Objects with orbits outside Neptune (a > 30.1 AU).\n",
    "\n",
    "#### Additional notes\n",
    "- The astronomical unit (au) is defined by the IAU as exactly 149,597,870,700 m. Based on avg distance between Earth and Sun.\n",
    "- NEO: An asteroid or comet with a perihelion distance less than or equal to 1.3 au. 99% of NEOs are asteroids. \n",
    "- 1 sigma uncertainty means 1 standard deviation."
   ]
  },
  {
   "cell_type": "code",
   "execution_count": 4,
   "metadata": {},
   "outputs": [
    {
     "name": "stderr",
     "output_type": "stream",
     "text": [
      "/Users/lauramiller/opt/anaconda3/envs/learn-env/lib/python3.8/site-packages/IPython/core/interactiveshell.py:3145: DtypeWarning: Columns (3,4,5) have mixed types.Specify dtype option on import or set low_memory=False.\n",
      "  has_raised = await self.run_ast_nodes(code_ast.body, cell_name,\n"
     ]
    },
    {
     "name": "stdout",
     "output_type": "stream",
     "text": [
      "<class 'pandas.core.frame.DataFrame'>\n",
      "RangeIndex: 958524 entries, 0 to 958523\n",
      "Data columns (total 45 columns):\n",
      " #   Column          Non-Null Count   Dtype  \n",
      "---  ------          --------------   -----  \n",
      " 0   id              958524 non-null  object \n",
      " 1   spkid           958524 non-null  int64  \n",
      " 2   full_name       958524 non-null  object \n",
      " 3   pdes            958524 non-null  object \n",
      " 4   name            22064 non-null   object \n",
      " 5   prefix          18 non-null      object \n",
      " 6   neo             958520 non-null  object \n",
      " 7   pha             938603 non-null  object \n",
      " 8   H               952261 non-null  float64\n",
      " 9   diameter        136209 non-null  float64\n",
      " 10  albedo          135103 non-null  float64\n",
      " 11  diameter_sigma  136081 non-null  float64\n",
      " 12  orbit_id        958524 non-null  object \n",
      " 13  epoch           958524 non-null  float64\n",
      " 14  epoch_mjd       958524 non-null  int64  \n",
      " 15  epoch_cal       958524 non-null  float64\n",
      " 16  equinox         958524 non-null  object \n",
      " 17  e               958524 non-null  float64\n",
      " 18  a               958524 non-null  float64\n",
      " 19  q               958524 non-null  float64\n",
      " 20  i               958524 non-null  float64\n",
      " 21  om              958524 non-null  float64\n",
      " 22  w               958524 non-null  float64\n",
      " 23  ma              958523 non-null  float64\n",
      " 24  ad              958520 non-null  float64\n",
      " 25  n               958524 non-null  float64\n",
      " 26  tp              958524 non-null  float64\n",
      " 27  tp_cal          958524 non-null  float64\n",
      " 28  per             958520 non-null  float64\n",
      " 29  per_y           958523 non-null  float64\n",
      " 30  moid            938603 non-null  float64\n",
      " 31  moid_ld         958397 non-null  float64\n",
      " 32  sigma_e         938602 non-null  float64\n",
      " 33  sigma_a         938602 non-null  float64\n",
      " 34  sigma_q         938602 non-null  float64\n",
      " 35  sigma_i         938602 non-null  float64\n",
      " 36  sigma_om        938602 non-null  float64\n",
      " 37  sigma_w         938602 non-null  float64\n",
      " 38  sigma_ma        938602 non-null  float64\n",
      " 39  sigma_ad        938598 non-null  float64\n",
      " 40  sigma_n         938602 non-null  float64\n",
      " 41  sigma_tp        938602 non-null  float64\n",
      " 42  sigma_per       938598 non-null  float64\n",
      " 43  class           958524 non-null  object \n",
      " 44  rms             958522 non-null  float64\n",
      "dtypes: float64(33), int64(2), object(10)\n",
      "memory usage: 329.1+ MB\n"
     ]
    }
   ],
   "source": [
    "data = pd.read_csv('data/dataset.csv')\n",
    "\n",
    "data.info()"
   ]
  },
  {
   "cell_type": "code",
   "execution_count": 3,
   "metadata": {},
   "outputs": [
    {
     "data": {
      "text/plain": [
       "(958524, 45)"
      ]
     },
     "execution_count": 3,
     "metadata": {},
     "output_type": "execute_result"
    }
   ],
   "source": [
    "data.shape"
   ]
  },
  {
   "cell_type": "code",
   "execution_count": 4,
   "metadata": {},
   "outputs": [
    {
     "data": {
      "text/html": [
       "<div>\n",
       "<style scoped>\n",
       "    .dataframe tbody tr th:only-of-type {\n",
       "        vertical-align: middle;\n",
       "    }\n",
       "\n",
       "    .dataframe tbody tr th {\n",
       "        vertical-align: top;\n",
       "    }\n",
       "\n",
       "    .dataframe thead th {\n",
       "        text-align: right;\n",
       "    }\n",
       "</style>\n",
       "<table border=\"1\" class=\"dataframe\">\n",
       "  <thead>\n",
       "    <tr style=\"text-align: right;\">\n",
       "      <th></th>\n",
       "      <th>id</th>\n",
       "      <th>spkid</th>\n",
       "      <th>full_name</th>\n",
       "      <th>pdes</th>\n",
       "      <th>name</th>\n",
       "      <th>prefix</th>\n",
       "      <th>neo</th>\n",
       "      <th>pha</th>\n",
       "      <th>H</th>\n",
       "      <th>diameter</th>\n",
       "      <th>...</th>\n",
       "      <th>sigma_i</th>\n",
       "      <th>sigma_om</th>\n",
       "      <th>sigma_w</th>\n",
       "      <th>sigma_ma</th>\n",
       "      <th>sigma_ad</th>\n",
       "      <th>sigma_n</th>\n",
       "      <th>sigma_tp</th>\n",
       "      <th>sigma_per</th>\n",
       "      <th>class</th>\n",
       "      <th>rms</th>\n",
       "    </tr>\n",
       "  </thead>\n",
       "  <tbody>\n",
       "    <tr>\n",
       "      <th>0</th>\n",
       "      <td>a0000001</td>\n",
       "      <td>2000001</td>\n",
       "      <td>1 Ceres</td>\n",
       "      <td>1</td>\n",
       "      <td>Ceres</td>\n",
       "      <td>NaN</td>\n",
       "      <td>N</td>\n",
       "      <td>N</td>\n",
       "      <td>3.40</td>\n",
       "      <td>939.400</td>\n",
       "      <td>...</td>\n",
       "      <td>4.608900e-09</td>\n",
       "      <td>6.168800e-08</td>\n",
       "      <td>6.624800e-08</td>\n",
       "      <td>7.820700e-09</td>\n",
       "      <td>1.111300e-11</td>\n",
       "      <td>1.196500e-12</td>\n",
       "      <td>3.782900e-08</td>\n",
       "      <td>9.415900e-09</td>\n",
       "      <td>MBA</td>\n",
       "      <td>0.43301</td>\n",
       "    </tr>\n",
       "    <tr>\n",
       "      <th>1</th>\n",
       "      <td>a0000002</td>\n",
       "      <td>2000002</td>\n",
       "      <td>2 Pallas</td>\n",
       "      <td>2</td>\n",
       "      <td>Pallas</td>\n",
       "      <td>NaN</td>\n",
       "      <td>N</td>\n",
       "      <td>N</td>\n",
       "      <td>4.20</td>\n",
       "      <td>545.000</td>\n",
       "      <td>...</td>\n",
       "      <td>3.469400e-06</td>\n",
       "      <td>6.272400e-06</td>\n",
       "      <td>9.128200e-06</td>\n",
       "      <td>8.859100e-06</td>\n",
       "      <td>4.961300e-09</td>\n",
       "      <td>4.653600e-10</td>\n",
       "      <td>4.078700e-05</td>\n",
       "      <td>3.680700e-06</td>\n",
       "      <td>MBA</td>\n",
       "      <td>0.35936</td>\n",
       "    </tr>\n",
       "    <tr>\n",
       "      <th>2</th>\n",
       "      <td>a0000003</td>\n",
       "      <td>2000003</td>\n",
       "      <td>3 Juno</td>\n",
       "      <td>3</td>\n",
       "      <td>Juno</td>\n",
       "      <td>NaN</td>\n",
       "      <td>N</td>\n",
       "      <td>N</td>\n",
       "      <td>5.33</td>\n",
       "      <td>246.596</td>\n",
       "      <td>...</td>\n",
       "      <td>3.223100e-06</td>\n",
       "      <td>1.664600e-05</td>\n",
       "      <td>1.772100e-05</td>\n",
       "      <td>8.110400e-06</td>\n",
       "      <td>4.363900e-09</td>\n",
       "      <td>4.413400e-10</td>\n",
       "      <td>3.528800e-05</td>\n",
       "      <td>3.107200e-06</td>\n",
       "      <td>MBA</td>\n",
       "      <td>0.33848</td>\n",
       "    </tr>\n",
       "    <tr>\n",
       "      <th>3</th>\n",
       "      <td>a0000004</td>\n",
       "      <td>2000004</td>\n",
       "      <td>4 Vesta</td>\n",
       "      <td>4</td>\n",
       "      <td>Vesta</td>\n",
       "      <td>NaN</td>\n",
       "      <td>N</td>\n",
       "      <td>N</td>\n",
       "      <td>3.00</td>\n",
       "      <td>525.400</td>\n",
       "      <td>...</td>\n",
       "      <td>2.170600e-07</td>\n",
       "      <td>3.880800e-07</td>\n",
       "      <td>1.789300e-07</td>\n",
       "      <td>1.206800e-06</td>\n",
       "      <td>1.648600e-09</td>\n",
       "      <td>2.612500e-10</td>\n",
       "      <td>4.103700e-06</td>\n",
       "      <td>1.274900e-06</td>\n",
       "      <td>MBA</td>\n",
       "      <td>0.39980</td>\n",
       "    </tr>\n",
       "    <tr>\n",
       "      <th>4</th>\n",
       "      <td>a0000005</td>\n",
       "      <td>2000005</td>\n",
       "      <td>5 Astraea</td>\n",
       "      <td>5</td>\n",
       "      <td>Astraea</td>\n",
       "      <td>NaN</td>\n",
       "      <td>N</td>\n",
       "      <td>N</td>\n",
       "      <td>6.90</td>\n",
       "      <td>106.699</td>\n",
       "      <td>...</td>\n",
       "      <td>2.740800e-06</td>\n",
       "      <td>2.894900e-05</td>\n",
       "      <td>2.984200e-05</td>\n",
       "      <td>8.303800e-06</td>\n",
       "      <td>4.729000e-09</td>\n",
       "      <td>5.522700e-10</td>\n",
       "      <td>3.474300e-05</td>\n",
       "      <td>3.490500e-06</td>\n",
       "      <td>MBA</td>\n",
       "      <td>0.52191</td>\n",
       "    </tr>\n",
       "  </tbody>\n",
       "</table>\n",
       "<p>5 rows × 45 columns</p>\n",
       "</div>"
      ],
      "text/plain": [
       "         id    spkid       full_name pdes     name prefix neo pha     H  \\\n",
       "0  a0000001  2000001         1 Ceres    1    Ceres    NaN   N   N  3.40   \n",
       "1  a0000002  2000002        2 Pallas    2   Pallas    NaN   N   N  4.20   \n",
       "2  a0000003  2000003          3 Juno    3     Juno    NaN   N   N  5.33   \n",
       "3  a0000004  2000004         4 Vesta    4    Vesta    NaN   N   N  3.00   \n",
       "4  a0000005  2000005       5 Astraea    5  Astraea    NaN   N   N  6.90   \n",
       "\n",
       "   diameter  ...       sigma_i      sigma_om       sigma_w      sigma_ma  \\\n",
       "0   939.400  ...  4.608900e-09  6.168800e-08  6.624800e-08  7.820700e-09   \n",
       "1   545.000  ...  3.469400e-06  6.272400e-06  9.128200e-06  8.859100e-06   \n",
       "2   246.596  ...  3.223100e-06  1.664600e-05  1.772100e-05  8.110400e-06   \n",
       "3   525.400  ...  2.170600e-07  3.880800e-07  1.789300e-07  1.206800e-06   \n",
       "4   106.699  ...  2.740800e-06  2.894900e-05  2.984200e-05  8.303800e-06   \n",
       "\n",
       "       sigma_ad       sigma_n      sigma_tp     sigma_per  class      rms  \n",
       "0  1.111300e-11  1.196500e-12  3.782900e-08  9.415900e-09    MBA  0.43301  \n",
       "1  4.961300e-09  4.653600e-10  4.078700e-05  3.680700e-06    MBA  0.35936  \n",
       "2  4.363900e-09  4.413400e-10  3.528800e-05  3.107200e-06    MBA  0.33848  \n",
       "3  1.648600e-09  2.612500e-10  4.103700e-06  1.274900e-06    MBA  0.39980  \n",
       "4  4.729000e-09  5.522700e-10  3.474300e-05  3.490500e-06    MBA  0.52191  \n",
       "\n",
       "[5 rows x 45 columns]"
      ]
     },
     "execution_count": 4,
     "metadata": {},
     "output_type": "execute_result"
    }
   ],
   "source": [
    "data.head()"
   ]
  },
  {
   "cell_type": "code",
   "execution_count": 5,
   "metadata": {},
   "outputs": [
    {
     "data": {
      "text/html": [
       "<div>\n",
       "<style scoped>\n",
       "    .dataframe tbody tr th:only-of-type {\n",
       "        vertical-align: middle;\n",
       "    }\n",
       "\n",
       "    .dataframe tbody tr th {\n",
       "        vertical-align: top;\n",
       "    }\n",
       "\n",
       "    .dataframe thead th {\n",
       "        text-align: right;\n",
       "    }\n",
       "</style>\n",
       "<table border=\"1\" class=\"dataframe\">\n",
       "  <thead>\n",
       "    <tr style=\"text-align: right;\">\n",
       "      <th></th>\n",
       "      <th>spkid</th>\n",
       "      <th>H</th>\n",
       "      <th>diameter</th>\n",
       "      <th>albedo</th>\n",
       "      <th>diameter_sigma</th>\n",
       "      <th>epoch</th>\n",
       "      <th>epoch_mjd</th>\n",
       "      <th>epoch_cal</th>\n",
       "      <th>e</th>\n",
       "      <th>a</th>\n",
       "      <th>...</th>\n",
       "      <th>sigma_q</th>\n",
       "      <th>sigma_i</th>\n",
       "      <th>sigma_om</th>\n",
       "      <th>sigma_w</th>\n",
       "      <th>sigma_ma</th>\n",
       "      <th>sigma_ad</th>\n",
       "      <th>sigma_n</th>\n",
       "      <th>sigma_tp</th>\n",
       "      <th>sigma_per</th>\n",
       "      <th>rms</th>\n",
       "    </tr>\n",
       "  </thead>\n",
       "  <tbody>\n",
       "    <tr>\n",
       "      <th>count</th>\n",
       "      <td>9.585240e+05</td>\n",
       "      <td>952261.000000</td>\n",
       "      <td>136209.000000</td>\n",
       "      <td>135103.000000</td>\n",
       "      <td>136081.000000</td>\n",
       "      <td>9.585240e+05</td>\n",
       "      <td>958524.000000</td>\n",
       "      <td>9.585240e+05</td>\n",
       "      <td>958524.000000</td>\n",
       "      <td>958524.000000</td>\n",
       "      <td>...</td>\n",
       "      <td>9.386020e+05</td>\n",
       "      <td>9.386020e+05</td>\n",
       "      <td>9.386020e+05</td>\n",
       "      <td>9.386020e+05</td>\n",
       "      <td>9.386020e+05</td>\n",
       "      <td>9.385980e+05</td>\n",
       "      <td>9.386020e+05</td>\n",
       "      <td>9.386020e+05</td>\n",
       "      <td>9.385980e+05</td>\n",
       "      <td>958522.000000</td>\n",
       "    </tr>\n",
       "    <tr>\n",
       "      <th>mean</th>\n",
       "      <td>3.810114e+06</td>\n",
       "      <td>16.906411</td>\n",
       "      <td>5.506429</td>\n",
       "      <td>0.130627</td>\n",
       "      <td>0.479184</td>\n",
       "      <td>2.458869e+06</td>\n",
       "      <td>58868.781950</td>\n",
       "      <td>2.019693e+07</td>\n",
       "      <td>0.156116</td>\n",
       "      <td>2.902143</td>\n",
       "      <td>...</td>\n",
       "      <td>1.982929e+01</td>\n",
       "      <td>1.168449e+00</td>\n",
       "      <td>5.310234e+00</td>\n",
       "      <td>1.370062e+06</td>\n",
       "      <td>1.369977e+06</td>\n",
       "      <td>2.131453e+01</td>\n",
       "      <td>5.060221e-02</td>\n",
       "      <td>4.312780e+08</td>\n",
       "      <td>8.525815e+04</td>\n",
       "      <td>0.561153</td>\n",
       "    </tr>\n",
       "    <tr>\n",
       "      <th>std</th>\n",
       "      <td>6.831541e+06</td>\n",
       "      <td>1.790405</td>\n",
       "      <td>9.425164</td>\n",
       "      <td>0.110323</td>\n",
       "      <td>0.782895</td>\n",
       "      <td>7.016716e+02</td>\n",
       "      <td>701.671573</td>\n",
       "      <td>1.930354e+04</td>\n",
       "      <td>0.092643</td>\n",
       "      <td>39.719503</td>\n",
       "      <td>...</td>\n",
       "      <td>2.903785e+03</td>\n",
       "      <td>1.282231e+02</td>\n",
       "      <td>1.333381e+03</td>\n",
       "      <td>9.158996e+08</td>\n",
       "      <td>9.158991e+08</td>\n",
       "      <td>7.197034e+03</td>\n",
       "      <td>9.814953e+00</td>\n",
       "      <td>2.953046e+11</td>\n",
       "      <td>2.767681e+07</td>\n",
       "      <td>2.745700</td>\n",
       "    </tr>\n",
       "    <tr>\n",
       "      <th>min</th>\n",
       "      <td>2.000001e+06</td>\n",
       "      <td>-1.100000</td>\n",
       "      <td>0.002500</td>\n",
       "      <td>0.001000</td>\n",
       "      <td>0.000500</td>\n",
       "      <td>2.425052e+06</td>\n",
       "      <td>25051.000000</td>\n",
       "      <td>1.927062e+07</td>\n",
       "      <td>0.000000</td>\n",
       "      <td>-14702.447872</td>\n",
       "      <td>...</td>\n",
       "      <td>1.956900e-11</td>\n",
       "      <td>4.608900e-09</td>\n",
       "      <td>6.168800e-08</td>\n",
       "      <td>6.624800e-08</td>\n",
       "      <td>7.820700e-09</td>\n",
       "      <td>1.111300e-11</td>\n",
       "      <td>1.196500e-12</td>\n",
       "      <td>3.782900e-08</td>\n",
       "      <td>9.415900e-09</td>\n",
       "      <td>0.000000</td>\n",
       "    </tr>\n",
       "    <tr>\n",
       "      <th>25%</th>\n",
       "      <td>2.239632e+06</td>\n",
       "      <td>16.100000</td>\n",
       "      <td>2.780000</td>\n",
       "      <td>0.053000</td>\n",
       "      <td>0.180000</td>\n",
       "      <td>2.459000e+06</td>\n",
       "      <td>59000.000000</td>\n",
       "      <td>2.020053e+07</td>\n",
       "      <td>0.092193</td>\n",
       "      <td>2.387835</td>\n",
       "      <td>...</td>\n",
       "      <td>1.462000e-07</td>\n",
       "      <td>6.095900e-06</td>\n",
       "      <td>3.619400e-05</td>\n",
       "      <td>5.755000e-05</td>\n",
       "      <td>2.573700e-05</td>\n",
       "      <td>2.340900e-08</td>\n",
       "      <td>2.768800e-09</td>\n",
       "      <td>1.110900e-04</td>\n",
       "      <td>1.794500e-05</td>\n",
       "      <td>0.518040</td>\n",
       "    </tr>\n",
       "    <tr>\n",
       "      <th>50%</th>\n",
       "      <td>2.479262e+06</td>\n",
       "      <td>16.900000</td>\n",
       "      <td>3.972000</td>\n",
       "      <td>0.079000</td>\n",
       "      <td>0.332000</td>\n",
       "      <td>2.459000e+06</td>\n",
       "      <td>59000.000000</td>\n",
       "      <td>2.020053e+07</td>\n",
       "      <td>0.145002</td>\n",
       "      <td>2.646969</td>\n",
       "      <td>...</td>\n",
       "      <td>2.271900e-07</td>\n",
       "      <td>8.688800e-06</td>\n",
       "      <td>6.642550e-05</td>\n",
       "      <td>1.047100e-04</td>\n",
       "      <td>4.900100e-05</td>\n",
       "      <td>4.359000e-08</td>\n",
       "      <td>4.638000e-09</td>\n",
       "      <td>2.230800e-04</td>\n",
       "      <td>3.501700e-05</td>\n",
       "      <td>0.566280</td>\n",
       "    </tr>\n",
       "    <tr>\n",
       "      <th>75%</th>\n",
       "      <td>3.752518e+06</td>\n",
       "      <td>17.714000</td>\n",
       "      <td>5.765000</td>\n",
       "      <td>0.190000</td>\n",
       "      <td>0.620000</td>\n",
       "      <td>2.459000e+06</td>\n",
       "      <td>59000.000000</td>\n",
       "      <td>2.020053e+07</td>\n",
       "      <td>0.200650</td>\n",
       "      <td>3.001932</td>\n",
       "      <td>...</td>\n",
       "      <td>6.583200e-07</td>\n",
       "      <td>1.591500e-05</td>\n",
       "      <td>1.609775e-04</td>\n",
       "      <td>3.114400e-04</td>\n",
       "      <td>1.718900e-04</td>\n",
       "      <td>1.196600e-07</td>\n",
       "      <td>1.124000e-08</td>\n",
       "      <td>8.139600e-04</td>\n",
       "      <td>9.775475e-05</td>\n",
       "      <td>0.613927</td>\n",
       "    </tr>\n",
       "    <tr>\n",
       "      <th>max</th>\n",
       "      <td>5.401723e+07</td>\n",
       "      <td>33.200000</td>\n",
       "      <td>939.400000</td>\n",
       "      <td>1.000000</td>\n",
       "      <td>140.000000</td>\n",
       "      <td>2.459000e+06</td>\n",
       "      <td>59000.000000</td>\n",
       "      <td>2.020053e+07</td>\n",
       "      <td>1.855356</td>\n",
       "      <td>33488.895955</td>\n",
       "      <td>...</td>\n",
       "      <td>1.015000e+06</td>\n",
       "      <td>5.533000e+04</td>\n",
       "      <td>1.199100e+06</td>\n",
       "      <td>8.845100e+11</td>\n",
       "      <td>8.845100e+11</td>\n",
       "      <td>5.509700e+06</td>\n",
       "      <td>7.698800e+03</td>\n",
       "      <td>2.853100e+14</td>\n",
       "      <td>1.910700e+10</td>\n",
       "      <td>2686.600000</td>\n",
       "    </tr>\n",
       "  </tbody>\n",
       "</table>\n",
       "<p>8 rows × 35 columns</p>\n",
       "</div>"
      ],
      "text/plain": [
       "              spkid              H       diameter         albedo  \\\n",
       "count  9.585240e+05  952261.000000  136209.000000  135103.000000   \n",
       "mean   3.810114e+06      16.906411       5.506429       0.130627   \n",
       "std    6.831541e+06       1.790405       9.425164       0.110323   \n",
       "min    2.000001e+06      -1.100000       0.002500       0.001000   \n",
       "25%    2.239632e+06      16.100000       2.780000       0.053000   \n",
       "50%    2.479262e+06      16.900000       3.972000       0.079000   \n",
       "75%    3.752518e+06      17.714000       5.765000       0.190000   \n",
       "max    5.401723e+07      33.200000     939.400000       1.000000   \n",
       "\n",
       "       diameter_sigma         epoch      epoch_mjd     epoch_cal  \\\n",
       "count   136081.000000  9.585240e+05  958524.000000  9.585240e+05   \n",
       "mean         0.479184  2.458869e+06   58868.781950  2.019693e+07   \n",
       "std          0.782895  7.016716e+02     701.671573  1.930354e+04   \n",
       "min          0.000500  2.425052e+06   25051.000000  1.927062e+07   \n",
       "25%          0.180000  2.459000e+06   59000.000000  2.020053e+07   \n",
       "50%          0.332000  2.459000e+06   59000.000000  2.020053e+07   \n",
       "75%          0.620000  2.459000e+06   59000.000000  2.020053e+07   \n",
       "max        140.000000  2.459000e+06   59000.000000  2.020053e+07   \n",
       "\n",
       "                   e              a  ...       sigma_q       sigma_i  \\\n",
       "count  958524.000000  958524.000000  ...  9.386020e+05  9.386020e+05   \n",
       "mean        0.156116       2.902143  ...  1.982929e+01  1.168449e+00   \n",
       "std         0.092643      39.719503  ...  2.903785e+03  1.282231e+02   \n",
       "min         0.000000  -14702.447872  ...  1.956900e-11  4.608900e-09   \n",
       "25%         0.092193       2.387835  ...  1.462000e-07  6.095900e-06   \n",
       "50%         0.145002       2.646969  ...  2.271900e-07  8.688800e-06   \n",
       "75%         0.200650       3.001932  ...  6.583200e-07  1.591500e-05   \n",
       "max         1.855356   33488.895955  ...  1.015000e+06  5.533000e+04   \n",
       "\n",
       "           sigma_om       sigma_w      sigma_ma      sigma_ad       sigma_n  \\\n",
       "count  9.386020e+05  9.386020e+05  9.386020e+05  9.385980e+05  9.386020e+05   \n",
       "mean   5.310234e+00  1.370062e+06  1.369977e+06  2.131453e+01  5.060221e-02   \n",
       "std    1.333381e+03  9.158996e+08  9.158991e+08  7.197034e+03  9.814953e+00   \n",
       "min    6.168800e-08  6.624800e-08  7.820700e-09  1.111300e-11  1.196500e-12   \n",
       "25%    3.619400e-05  5.755000e-05  2.573700e-05  2.340900e-08  2.768800e-09   \n",
       "50%    6.642550e-05  1.047100e-04  4.900100e-05  4.359000e-08  4.638000e-09   \n",
       "75%    1.609775e-04  3.114400e-04  1.718900e-04  1.196600e-07  1.124000e-08   \n",
       "max    1.199100e+06  8.845100e+11  8.845100e+11  5.509700e+06  7.698800e+03   \n",
       "\n",
       "           sigma_tp     sigma_per            rms  \n",
       "count  9.386020e+05  9.385980e+05  958522.000000  \n",
       "mean   4.312780e+08  8.525815e+04       0.561153  \n",
       "std    2.953046e+11  2.767681e+07       2.745700  \n",
       "min    3.782900e-08  9.415900e-09       0.000000  \n",
       "25%    1.110900e-04  1.794500e-05       0.518040  \n",
       "50%    2.230800e-04  3.501700e-05       0.566280  \n",
       "75%    8.139600e-04  9.775475e-05       0.613927  \n",
       "max    2.853100e+14  1.910700e+10    2686.600000  \n",
       "\n",
       "[8 rows x 35 columns]"
      ]
     },
     "execution_count": 5,
     "metadata": {},
     "output_type": "execute_result"
    }
   ],
   "source": [
    "data.describe()"
   ]
  },
  {
   "cell_type": "markdown",
   "metadata": {},
   "source": [
    "## Examine columns"
   ]
  },
  {
   "cell_type": "code",
   "execution_count": 6,
   "metadata": {},
   "outputs": [
    {
     "name": "stdout",
     "output_type": "stream",
     "text": [
      "a0447626    0.000001\n",
      "bK15TO5P    0.000001\n",
      "bK16CR1A    0.000001\n",
      "bK10FD8K    0.000001\n",
      "bK16F34O    0.000001\n",
      "              ...   \n",
      "bK08T87U    0.000001\n",
      "a0109100    0.000001\n",
      "bK14OE8G    0.000001\n",
      "a0238766    0.000001\n",
      "a0208807    0.000001\n",
      "Name: id, Length: 958524, dtype: float64\n",
      "\n",
      "Unique Values:\n"
     ]
    },
    {
     "data": {
      "text/plain": [
       "958524"
      ]
     },
     "execution_count": 6,
     "metadata": {},
     "output_type": "execute_result"
    }
   ],
   "source": [
    "print(data.id.value_counts(normalize=True))\n",
    "print('\\nUnique Values:')\n",
    "data.id.nunique()"
   ]
  },
  {
   "cell_type": "code",
   "execution_count": 7,
   "metadata": {},
   "outputs": [
    {
     "name": "stdout",
     "output_type": "stream",
     "text": [
      "  2082 Galahad (7588 P-L)    0.000001\n",
      "314752 (2006 SA239)          0.000001\n",
      "157631 (2005 WA159)          0.000001\n",
      "       (2015 GG34)           0.000001\n",
      "       (2017 BY75)           0.000001\n",
      "                               ...   \n",
      "       (2015 FD324)          0.000001\n",
      "       (2014 RE18)           0.000001\n",
      " 63094 (2000 WP142)          0.000001\n",
      "       (2005 RW31)           0.000001\n",
      "       (2018 AC12)           0.000001\n",
      "Name: full_name, Length: 958524, dtype: float64\n",
      "\n",
      "Unique Values:\n"
     ]
    },
    {
     "data": {
      "text/plain": [
       "958524"
      ]
     },
     "execution_count": 7,
     "metadata": {},
     "output_type": "execute_result"
    }
   ],
   "source": [
    "print(data.full_name.value_counts(normalize=True))\n",
    "print('\\nUnique Values:')\n",
    "data.full_name.nunique()"
   ]
  },
  {
   "cell_type": "code",
   "execution_count": 8,
   "metadata": {},
   "outputs": [
    {
     "name": "stdout",
     "output_type": "stream",
     "text": [
      "Zsigmond         0.000045\n",
      "Spacesora        0.000045\n",
      "MacGregor        0.000045\n",
      "Wilkens          0.000045\n",
      "Hamra            0.000045\n",
      "                   ...   \n",
      "Gavioliremo      0.000045\n",
      "Novotroitskoe    0.000045\n",
      "Pholus           0.000045\n",
      "Meslier          0.000045\n",
      "Scorzelli        0.000045\n",
      "Name: name, Length: 22064, dtype: float64\n",
      "\n",
      "Unique Values:\n"
     ]
    },
    {
     "data": {
      "text/plain": [
       "22064"
      ]
     },
     "execution_count": 8,
     "metadata": {},
     "output_type": "execute_result"
    }
   ],
   "source": [
    "print(data.name.value_counts(normalize=True))\n",
    "print('\\nUnique Values:')\n",
    "data.name.nunique()"
   ]
  },
  {
   "cell_type": "code",
   "execution_count": 9,
   "metadata": {},
   "outputs": [
    {
     "name": "stdout",
     "output_type": "stream",
     "text": [
      "2014 GS55     0.000001\n",
      "319503        0.000001\n",
      "319515        0.000001\n",
      "319514        0.000001\n",
      "319513        0.000001\n",
      "                ...   \n",
      "2015 OA18     0.000001\n",
      "2006 SR154    0.000001\n",
      "2014 KZ17     0.000001\n",
      "2001 FR208    0.000001\n",
      "2016 FD4      0.000001\n",
      "Name: pdes, Length: 958524, dtype: float64\n",
      "\n",
      "Unique_Values\n"
     ]
    },
    {
     "data": {
      "text/plain": [
       "958524"
      ]
     },
     "execution_count": 9,
     "metadata": {},
     "output_type": "execute_result"
    }
   ],
   "source": [
    "print(data.pdes.value_counts(normalize=True))\n",
    "print('\\nUnique_Values')\n",
    "data.pdes.nunique()"
   ]
  },
  {
   "cell_type": "markdown",
   "metadata": {},
   "source": [
    "The above features appear to be unique identifiers for each row, not properties that will be effective in a classification model."
   ]
  },
  {
   "cell_type": "code",
   "execution_count": 10,
   "metadata": {},
   "outputs": [
    {
     "name": "stdout",
     "output_type": "stream",
     "text": [
      "1            0.052312\n",
      "JPL 1        0.049549\n",
      "JPL 2        0.036064\n",
      "JPL 3        0.031226\n",
      "12           0.030397\n",
      "               ...   \n",
      "MPO490516    0.000001\n",
      "MPO478183    0.000001\n",
      "MPO479019    0.000001\n",
      "MPO485984    0.000001\n",
      "MPO481628    0.000001\n",
      "Name: orbit_id, Length: 4690, dtype: float64\n",
      "\n",
      "Unique_Values\n"
     ]
    },
    {
     "data": {
      "text/plain": [
       "4690"
      ]
     },
     "execution_count": 10,
     "metadata": {},
     "output_type": "execute_result"
    }
   ],
   "source": [
    "print(data.orbit_id.value_counts(normalize=True))\n",
    "print('\\nUnique_Values')\n",
    "data.orbit_id.nunique()"
   ]
  },
  {
   "cell_type": "code",
   "execution_count": 11,
   "metadata": {},
   "outputs": [
    {
     "name": "stdout",
     "output_type": "stream",
     "text": [
      "J2000    1.0\n",
      "Name: equinox, dtype: float64\n",
      "\n",
      "Unique_Values\n"
     ]
    },
    {
     "data": {
      "text/plain": [
       "1"
      ]
     },
     "execution_count": 11,
     "metadata": {},
     "output_type": "execute_result"
    }
   ],
   "source": [
    "print(data.equinox.value_counts(normalize=True))\n",
    "print('\\nUnique_Values')\n",
    "data.equinox.nunique()"
   ]
  },
  {
   "cell_type": "code",
   "execution_count": 12,
   "metadata": {},
   "outputs": [
    {
     "name": "stdout",
     "output_type": "stream",
     "text": [
      "MBA    0.892992\n",
      "OMB    0.029582\n",
      "IMB    0.021241\n",
      "MCA    0.019494\n",
      "APO    0.013236\n",
      "AMO    0.008823\n",
      "TJN    0.008577\n",
      "TNO    0.003618\n",
      "ATE    0.001804\n",
      "CEN    0.000528\n",
      "AST    0.000079\n",
      "IEO    0.000023\n",
      "HYA    0.000004\n",
      "Name: class, dtype: float64\n",
      "\n",
      "Unique_Values\n"
     ]
    },
    {
     "data": {
      "text/plain": [
       "13"
      ]
     },
     "execution_count": 12,
     "metadata": {},
     "output_type": "execute_result"
    }
   ],
   "source": [
    "print(data['class'].value_counts(normalize=True))\n",
    "print('\\nUnique_Values')\n",
    "data['class'].nunique()"
   ]
  },
  {
   "cell_type": "code",
   "execution_count": 13,
   "metadata": {},
   "outputs": [
    {
     "data": {
      "text/plain": [
       "A    1.0\n",
       "Name: prefix, dtype: float64"
      ]
     },
     "execution_count": 13,
     "metadata": {},
     "output_type": "execute_result"
    }
   ],
   "source": [
    "data.prefix.value_counts(normalize=True)"
   ]
  },
  {
   "cell_type": "code",
   "execution_count": 14,
   "metadata": {},
   "outputs": [
    {
     "name": "stdout",
     "output_type": "stream",
     "text": [
      "0.000000      0.020653\n",
      "390.563229    0.000026\n",
      "454.702336    0.000026\n",
      "482.236114    0.000025\n",
      "456.009947    0.000023\n",
      "                ...   \n",
      "197.488987    0.000001\n",
      "795.506289    0.000001\n",
      "376.472550    0.000001\n",
      "333.391042    0.000001\n",
      "248.113777    0.000001\n",
      "Name: moid_ld, Length: 314301, dtype: float64\n",
      "\n",
      "Unique_Values\n"
     ]
    },
    {
     "data": {
      "text/plain": [
       "314301"
      ]
     },
     "execution_count": 14,
     "metadata": {},
     "output_type": "execute_result"
    }
   ],
   "source": [
    "print(data['moid_ld'].value_counts(normalize=True))\n",
    "print('\\nUnique_Values')\n",
    "data['moid_ld'].nunique()"
   ]
  },
  {
   "cell_type": "code",
   "execution_count": 15,
   "metadata": {},
   "outputs": [
    {
     "data": {
      "text/plain": [
       "N    0.976114\n",
       "Y    0.023886\n",
       "Name: neo, dtype: float64"
      ]
     },
     "execution_count": 15,
     "metadata": {},
     "output_type": "execute_result"
    }
   ],
   "source": [
    "# What percent of asteroids are near earth objects?\n",
    "\n",
    "data.neo.value_counts(normalize=True)"
   ]
  },
  {
   "cell_type": "code",
   "execution_count": 16,
   "metadata": {},
   "outputs": [
    {
     "data": {
      "text/plain": [
       "N    0.997799\n",
       "Y    0.002201\n",
       "Name: pha, dtype: float64"
      ]
     },
     "execution_count": 16,
     "metadata": {},
     "output_type": "execute_result"
    }
   ],
   "source": [
    "# Check for class imbalance. What percent of asteroids are hazardous?\n",
    "\n",
    "data.pha.value_counts(normalize=True)"
   ]
  },
  {
   "cell_type": "markdown",
   "metadata": {},
   "source": [
    "Data displays a heavy class imbalance. ~ 99.8% of asteroids are non-hazardous. There are far, far fewer potentially hazardous asteroids. A naive classifier that always predicts a negative (\"N\") label will be accurate 99.8% of the time. I will address class imbalances after selecting a best-performing model. \n",
    "\n",
    "Furthermore, a metric like recall (sensitivity, or `true positives / (true positives + false negatives`) should take priority in model evaluation, as we want to make sure we identify every potentially hazardous asteroid. The cost of missing one potentially hazardous body can be quite disastrous."
   ]
  },
  {
   "cell_type": "code",
   "execution_count": 39,
   "metadata": {},
   "outputs": [
    {
     "data": {
      "text/plain": [
       "MBA    832650\n",
       "OMB     27170\n",
       "IMB     19702\n",
       "MCA     17789\n",
       "APO     12684\n",
       "AMO      8448\n",
       "TJN      8122\n",
       "TNO      3459\n",
       "ATE      1729\n",
       "CEN       503\n",
       "AST        57\n",
       "IEO        22\n",
       "Name: class, dtype: int64"
      ]
     },
     "execution_count": 39,
     "metadata": {},
     "output_type": "execute_result"
    }
   ],
   "source": [
    "data['class'].value_counts()"
   ]
  },
  {
   "cell_type": "code",
   "execution_count": 6,
   "metadata": {},
   "outputs": [],
   "source": [
    "sns.set_context('talk', font_scale=0.75)\n",
    "sns.set_style('darkgrid')\n",
    "colors = ['#682dd3', '#fe4134', '#fe5448']"
   ]
  },
  {
   "cell_type": "code",
   "execution_count": 148,
   "metadata": {},
   "outputs": [
    {
     "data": {
      "image/png": "[encoded data removed]",
      "text/plain": [
       "<Figure size 720x360 with 1 Axes>"
      ]
     },
     "metadata": {},
     "output_type": "display_data"
    }
   ],
   "source": [
    "# What are the counts of various asteroid classes? Which class contains the most asteroids?\n",
    "\n",
    "plt.figure(figsize=(10, 5))\n",
    "ax = sns.countplot(y='class', data=data, color='#682dd3')\n",
    "plt.title('Distribution of Asteroid Orbit Classes')\n",
    "total = len(data['class'])\n",
    "#for p in ax.patches:\n",
    "        #percentage = '{:.2f}%'.format(100 * p.get_width()/total)\n",
    "        #x = p.get_x() + p.get_width() + 0.02\n",
    "        #y = p.get_y() + p.get_height()/2\n",
    "        #ax.annotate(percentage, (x, y))\n",
    "plt.tight_layout()\n",
    "plt.savefig('images/class-dist.png', bbox_inches='tight')\n",
    "plt.savefig('images/class-dist-hr.png', dpi=200, bbox_inches='tight');"
   ]
  },
  {
   "cell_type": "markdown",
   "metadata": {},
   "source": [
    "Most asteroids are MBA, or main belt asteroids (asteroids with orbital elements constrained by (2.0 AU < a < 3.2 AU; q > 1.666 AU). They are within the asteroid belt, orbiting between Mars and Jupiter. The fewest asteroids are IE0 (interior earth objects), which have orbits contained within the orbit of earth( Q < 0.983 AU)"
   ]
  },
  {
   "cell_type": "code",
   "execution_count": 155,
   "metadata": {},
   "outputs": [
    {
     "data": {
      "image/png": "[encoded data removed]",
      "text/plain": [
       "<Figure size 432x288 with 1 Axes>"
      ]
     },
     "metadata": {},
     "output_type": "display_data"
    }
   ],
   "source": [
    "# What are the orbit classifications of potentially hazardous asteroids?\n",
    "\n",
    "sns.countplot(x='class', data=data[data['pha'] == 'Y'], color='#682dd3')\n",
    "plt.title('Potentially Hazardous Orbit Classes')\n",
    "plt.savefig('images/pha-class.png', bbox_inches='tight')\n",
    "plt.savefig('images/pha-class-hr.png', dpi=200, bbox_inches='tight');"
   ]
  },
  {
   "cell_type": "markdown",
   "metadata": {},
   "source": [
    "Most potentially hazardous asteroids are of the APO (Apollo) class (Near-Earth asteroid orbits which cross the Earth's orbit similar to that of 1862 Apollo (a > 1.0 AU; q < 1.017 AU)."
   ]
  },
  {
   "cell_type": "code",
   "execution_count": 147,
   "metadata": {},
   "outputs": [
    {
     "data": {
      "image/png": "[encoded data removed]",
      "text/plain": [
       "<Figure size 432x288 with 1 Axes>"
      ]
     },
     "metadata": {},
     "output_type": "display_data"
    }
   ],
   "source": [
    "# What are the orbit classes of near earth objects?\n",
    "\n",
    "sns.countplot(x='class', data=data[data['neo'] == 'Y'], color='#682dd3');"
   ]
  },
  {
   "cell_type": "code",
   "execution_count": 157,
   "metadata": {},
   "outputs": [
    {
     "data": {
      "image/png": "[encoded data removed]",
      "text/plain": [
       "<Figure size 432x288 with 1 Axes>"
      ]
     },
     "metadata": {},
     "output_type": "display_data"
    }
   ],
   "source": [
    "# Are there asteroids that are not NEOs in the 4 classes above?\n",
    "\n",
    "sns.countplot(x='class', data=data[data['neo'] == 'N'], color='#682dd3');"
   ]
  },
  {
   "cell_type": "markdown",
   "metadata": {},
   "source": [
    "The 4 NEO-containing classes do not appear in the plot above, so they are entirely comprised of Near Earth Objects."
   ]
  },
  {
   "cell_type": "code",
   "execution_count": 19,
   "metadata": {},
   "outputs": [
    {
     "data": {
      "text/plain": [
       "N    0.909758\n",
       "Y    0.090242\n",
       "Name: pha, dtype: float64"
      ]
     },
     "execution_count": 19,
     "metadata": {},
     "output_type": "execute_result"
    }
   ],
   "source": [
    "# Of NEOs, what percentage are potentially hazardous?\n",
    "\n",
    "data[data['neo'] == 'Y']['pha'].value_counts(normalize=True)"
   ]
  },
  {
   "cell_type": "code",
   "execution_count": 11,
   "metadata": {},
   "outputs": [
    {
     "data": {
      "image/png": "[encoded data removed]",
      "text/plain": [
       "<Figure size 432x288 with 1 Axes>"
      ]
     },
     "metadata": {},
     "output_type": "display_data"
    }
   ],
   "source": [
    "sns.countplot(x='pha', data = data[data['neo'] == 'Y'], palette=colors)\n",
    "plt.title('Hazard Distribution of Near Earth Objects')\n",
    "plt.xlabel('potentially hazardous?')\n",
    "plt.xticks([0, 1], labels=['no', 'yes'])\n",
    "plt.savefig('images/neo-pha.png', bbox_inches='tight')\n",
    "plt.savefig('images/neo-pha-hr.png', dpi=200, bbox_inches='tight');"
   ]
  },
  {
   "cell_type": "markdown",
   "metadata": {},
   "source": [
    "Most NEOs are non-hazardous (~91%). While all potentially hazardous asteroids are NEOs, not all NEOs are potentially hazardous."
   ]
  },
  {
   "cell_type": "code",
   "execution_count": 108,
   "metadata": {},
   "outputs": [
    {
     "data": {
      "image/png": "[encoded data removed]",
      "text/plain": [
       "<Figure size 432x288 with 1 Axes>"
      ]
     },
     "metadata": {
      "needs_background": "light"
     },
     "output_type": "display_data"
    }
   ],
   "source": [
    "# Mean H (visual magnitude) of non-hazardous/ potentially hazardous asteroids\n",
    "sns.barplot(x=data['pha'], y=data['H'], data=data.groupby('pha').mean().reset_index(), palette=colors);"
   ]
  },
  {
   "cell_type": "code",
   "execution_count": 10,
   "metadata": {},
   "outputs": [
    {
     "data": {
      "image/png": "[encoded data removed]",
      "text/plain": [
       "<Figure size 432x288 with 1 Axes>"
      ]
     },
     "metadata": {},
     "output_type": "display_data"
    }
   ],
   "source": [
    "# Mean q (perihelion distance) for non-hazardous/potentially hazardous asteroids\n",
    "\n",
    "sns.barplot(x=data['pha'], y=data['q'], data=data, palette=colors)\n",
    "plt.title('Mean Perihelion Distance')\n",
    "plt.xlabel('potentially hazardous?')\n",
    "plt.ylabel('perihelion distance (AU)')\n",
    "plt.xticks([0, 1], labels=['no', 'yes'])\n",
    "plt.savefig('Images/q-pha.png', bbox_inches='tight')\n",
    "plt.savefig('Images/q-pha-hr.png', dpi=200, bbox_inches='tight');"
   ]
  },
  {
   "cell_type": "code",
   "execution_count": 9,
   "metadata": {},
   "outputs": [
    {
     "data": {
      "image/png": "[encoded data removed]",
      "text/plain": [
       "<Figure size 432x288 with 1 Axes>"
      ]
     },
     "metadata": {},
     "output_type": "display_data"
    }
   ],
   "source": [
    "# Mean a for non-hazardous/potentially hazardous asteroids\n",
    "\n",
    "sns.barplot(x=\"pha\", y='a', data=data, palette=colors)\n",
    "plt.title('Mean Semi-major Axis Length')\n",
    "plt.xlabel('potentially hazardous?')\n",
    "plt.ylabel('semi-major axis (AU)')\n",
    "plt.xticks([0, 1], labels=['no', 'yes'])\n",
    "plt.savefig('Images/a-pha.png', bbox_inches='tight')\n",
    "plt.savefig('Images/a-pha-hr.png', dpi=200, bbox_inches='tight');"
   ]
  },
  {
   "cell_type": "code",
   "execution_count": 89,
   "metadata": {},
   "outputs": [
    {
     "data": {
      "text/html": [
       "<div>\n",
       "<style scoped>\n",
       "    .dataframe tbody tr th:only-of-type {\n",
       "        vertical-align: middle;\n",
       "    }\n",
       "\n",
       "    .dataframe tbody tr th {\n",
       "        vertical-align: top;\n",
       "    }\n",
       "\n",
       "    .dataframe thead th {\n",
       "        text-align: right;\n",
       "    }\n",
       "</style>\n",
       "<table border=\"1\" class=\"dataframe\">\n",
       "  <thead>\n",
       "    <tr style=\"text-align: right;\">\n",
       "      <th>pha</th>\n",
       "      <th>N</th>\n",
       "      <th>Y</th>\n",
       "    </tr>\n",
       "    <tr>\n",
       "      <th>class</th>\n",
       "      <th></th>\n",
       "      <th></th>\n",
       "    </tr>\n",
       "  </thead>\n",
       "  <tbody>\n",
       "    <tr>\n",
       "      <th>AMO</th>\n",
       "      <td>65.541659</td>\n",
       "      <td>13.689846</td>\n",
       "    </tr>\n",
       "    <tr>\n",
       "      <th>APO</th>\n",
       "      <td>21.674208</td>\n",
       "      <td>8.905461</td>\n",
       "    </tr>\n",
       "    <tr>\n",
       "      <th>AST</th>\n",
       "      <td>657.901061</td>\n",
       "      <td>NaN</td>\n",
       "    </tr>\n",
       "    <tr>\n",
       "      <th>ATE</th>\n",
       "      <td>18.056258</td>\n",
       "      <td>9.072017</td>\n",
       "    </tr>\n",
       "    <tr>\n",
       "      <th>CEN</th>\n",
       "      <td>3129.367152</td>\n",
       "      <td>NaN</td>\n",
       "    </tr>\n",
       "    <tr>\n",
       "      <th>IEO</th>\n",
       "      <td>57.550358</td>\n",
       "      <td>15.348035</td>\n",
       "    </tr>\n",
       "    <tr>\n",
       "      <th>IMB</th>\n",
       "      <td>314.225552</td>\n",
       "      <td>NaN</td>\n",
       "    </tr>\n",
       "    <tr>\n",
       "      <th>MBA</th>\n",
       "      <td>506.401837</td>\n",
       "      <td>NaN</td>\n",
       "    </tr>\n",
       "    <tr>\n",
       "      <th>MCA</th>\n",
       "      <td>234.240645</td>\n",
       "      <td>NaN</td>\n",
       "    </tr>\n",
       "    <tr>\n",
       "      <th>OMB</th>\n",
       "      <td>743.152499</td>\n",
       "      <td>NaN</td>\n",
       "    </tr>\n",
       "    <tr>\n",
       "      <th>TJN</th>\n",
       "      <td>1494.498062</td>\n",
       "      <td>NaN</td>\n",
       "    </tr>\n",
       "    <tr>\n",
       "      <th>TNO</th>\n",
       "      <td>13608.816204</td>\n",
       "      <td>NaN</td>\n",
       "    </tr>\n",
       "  </tbody>\n",
       "</table>\n",
       "</div>"
      ],
      "text/plain": [
       "pha               N          Y\n",
       "class                         \n",
       "AMO       65.541659  13.689846\n",
       "APO       21.674208   8.905461\n",
       "AST      657.901061        NaN\n",
       "ATE       18.056258   9.072017\n",
       "CEN     3129.367152        NaN\n",
       "IEO       57.550358  15.348035\n",
       "IMB      314.225552        NaN\n",
       "MBA      506.401837        NaN\n",
       "MCA      234.240645        NaN\n",
       "OMB      743.152499        NaN\n",
       "TJN     1494.498062        NaN\n",
       "TNO    13608.816204        NaN"
      ]
     },
     "execution_count": 89,
     "metadata": {},
     "output_type": "execute_result"
    }
   ],
   "source": [
    "# Mean moid_ld values for non-hazardous and potentially hazardous asteroids by class\n",
    "\n",
    "crosstab = pd.crosstab(index=data['class'], columns=data['pha'], values=data['moid_ld'], aggfunc='mean')\n",
    "crosstab"
   ]
  },
  {
   "cell_type": "markdown",
   "metadata": {},
   "source": [
    "The 4 classes containing containing potentially hazardous asteroids also have the smallest mean values for `moid_ld`, as expected."
   ]
  },
  {
   "cell_type": "code",
   "execution_count": 132,
   "metadata": {},
   "outputs": [
    {
     "data": {
      "image/png": "[encoded data removed]",
      "text/plain": [
       "<Figure size 432x288 with 1 Axes>"
      ]
     },
     "metadata": {
      "needs_background": "light"
     },
     "output_type": "display_data"
    }
   ],
   "source": [
    "# Mean eccentricity of non-hazardous and potentially hazardous asteroids?\n",
    "\n",
    "sns.barplot(x=\"pha\", y=\"e\", data=data, palette=colors)\n",
    "plt.title(Average Orbit Eccentricity)\n",
    "plt.xlabel('potentially hazardous?')\n",
    "plt.xticks([0, 1], labels=['no', 'yes'])\n",
    "plt.savefig('images/e-pha.png', bbox_inches='tight')\n",
    "plt.savefig('images/e-pha-hr.png', dpi=200, bbox_inches='tight');"
   ]
  },
  {
   "cell_type": "code",
   "execution_count": 162,
   "metadata": {},
   "outputs": [
    {
     "data": {
      "image/png": "[encoded data removed]",
      "text/plain": [
       "<Figure size 432x288 with 1 Axes>"
      ]
     },
     "metadata": {},
     "output_type": "display_data"
    }
   ],
   "source": [
    "# Distribution of eccentricity for non-hazardous/ potentially hazardous asteroids.\n",
    "\n",
    "sns.violinplot(x=\"pha\", y=\"e\", data=data, palette=colors)\n",
    "plt.title('Orbit Eccentricity')\n",
    "plt.xlabel('potentially hazardous?')\n",
    "plt.ylabel('eccentricity')\n",
    "plt.xticks([0, 1], labels=['no', 'yes'])\n",
    "plt.savefig('images/e-pha-violin.png', bbox_inches='tight')\n",
    "plt.savefig('images/e-pha-violin-hr.png', dpi=200, bbox_inches='tight');"
   ]
  },
  {
   "cell_type": "markdown",
   "metadata": {},
   "source": [
    "### Address missing values"
   ]
  },
  {
   "cell_type": "code",
   "execution_count": 22,
   "metadata": {},
   "outputs": [
    {
     "data": {
      "text/plain": [
       "id                     0\n",
       "spkid                  0\n",
       "full_name              0\n",
       "pdes                   0\n",
       "name              936460\n",
       "prefix            958506\n",
       "neo                    4\n",
       "pha                19921\n",
       "H                   6263\n",
       "diameter          822315\n",
       "albedo            823421\n",
       "diameter_sigma    822443\n",
       "orbit_id               0\n",
       "epoch                  0\n",
       "epoch_mjd              0\n",
       "epoch_cal              0\n",
       "equinox                0\n",
       "e                      0\n",
       "a                      0\n",
       "q                      0\n",
       "i                      0\n",
       "om                     0\n",
       "w                      0\n",
       "ma                     1\n",
       "ad                     4\n",
       "n                      0\n",
       "tp                     0\n",
       "tp_cal                 0\n",
       "per                    4\n",
       "per_y                  1\n",
       "moid               19921\n",
       "moid_ld              127\n",
       "sigma_e            19922\n",
       "sigma_a            19922\n",
       "sigma_q            19922\n",
       "sigma_i            19922\n",
       "sigma_om           19922\n",
       "sigma_w            19922\n",
       "sigma_ma           19922\n",
       "sigma_ad           19926\n",
       "sigma_n            19922\n",
       "sigma_tp           19922\n",
       "sigma_per          19926\n",
       "class                  0\n",
       "rms                    2\n",
       "dtype: int64"
      ]
     },
     "execution_count": 22,
     "metadata": {},
     "output_type": "execute_result"
    }
   ],
   "source": [
    "data.isna().sum()"
   ]
  },
  {
   "cell_type": "code",
   "execution_count": 23,
   "metadata": {},
   "outputs": [
    {
     "data": {
      "text/plain": [
       "26"
      ]
     },
     "execution_count": 23,
     "metadata": {},
     "output_type": "execute_result"
    }
   ],
   "source": [
    "data.isna().any().sum()"
   ]
  },
  {
   "cell_type": "code",
   "execution_count": 24,
   "metadata": {},
   "outputs": [
    {
     "data": {
      "text/plain": [
       "741612    5.260067\n",
       "929462    0.255912\n",
       "946657    5.858539\n",
       "950563    8.820993\n",
       "Name: q, dtype: float64"
      ]
     },
     "execution_count": 24,
     "metadata": {},
     "output_type": "execute_result"
    }
   ],
   "source": [
    "# NEOs\n",
    "\n",
    "# Check perihelion distances. If <= 1.3 au, the object is NEO\n",
    "\n",
    "data[data.neo.isna()]['q']"
   ]
  },
  {
   "cell_type": "markdown",
   "metadata": {},
   "source": [
    "One missing entry is a NEO, the others are not."
   ]
  },
  {
   "cell_type": "code",
   "execution_count": 25,
   "metadata": {},
   "outputs": [],
   "source": [
    "data.at[929462, 'neo'] = 'Y'"
   ]
  },
  {
   "cell_type": "code",
   "execution_count": 26,
   "metadata": {},
   "outputs": [],
   "source": [
    "data.neo.fillna(value='N', inplace=True)"
   ]
  },
  {
   "cell_type": "code",
   "execution_count": 27,
   "metadata": {},
   "outputs": [
    {
     "data": {
      "text/plain": [
       "Index(['id', 'spkid', 'full_name', 'pdes', 'name', 'prefix', 'neo', 'pha', 'H',\n",
       "       'diameter', 'albedo', 'diameter_sigma', 'orbit_id', 'epoch',\n",
       "       'epoch_mjd', 'epoch_cal', 'equinox', 'e', 'a', 'q', 'i', 'om', 'w',\n",
       "       'ma', 'ad', 'n', 'tp', 'tp_cal', 'per', 'per_y', 'moid', 'moid_ld',\n",
       "       'sigma_e', 'sigma_a', 'sigma_q', 'sigma_i', 'sigma_om', 'sigma_w',\n",
       "       'sigma_ma', 'sigma_ad', 'sigma_n', 'sigma_tp', 'sigma_per', 'class',\n",
       "       'rms'],\n",
       "      dtype='object')"
      ]
     },
     "execution_count": 27,
     "metadata": {},
     "output_type": "execute_result"
    }
   ],
   "source": [
    "# Drop ID cols & cols with 800K+ missing values\n",
    "\n",
    "data.columns"
   ]
  },
  {
   "cell_type": "code",
   "execution_count": 28,
   "metadata": {},
   "outputs": [],
   "source": [
    "# Equinox is the same for every entry, so this is also uninformative\n",
    "\n",
    "# Class provides orbit information, but in broader categories. Drop orbit_id (which contains 4690 unique values)\n",
    "\n",
    "cols = ['id', 'spkid', 'full_name', 'pdes', 'name', 'prefix', 'diameter', 'albedo', 'diameter_sigma', 'equinox', 'orbit_id']\n",
    "\n",
    "data = data.drop(cols, axis=1)"
   ]
  },
  {
   "cell_type": "code",
   "execution_count": 29,
   "metadata": {},
   "outputs": [
    {
     "data": {
      "text/plain": [
       "neo              0\n",
       "pha          19921\n",
       "H             6263\n",
       "epoch            0\n",
       "epoch_mjd        0\n",
       "epoch_cal        0\n",
       "e                0\n",
       "a                0\n",
       "q                0\n",
       "i                0\n",
       "om               0\n",
       "w                0\n",
       "ma               1\n",
       "ad               4\n",
       "n                0\n",
       "tp               0\n",
       "tp_cal           0\n",
       "per              4\n",
       "per_y            1\n",
       "moid         19921\n",
       "moid_ld        127\n",
       "sigma_e      19922\n",
       "sigma_a      19922\n",
       "sigma_q      19922\n",
       "sigma_i      19922\n",
       "sigma_om     19922\n",
       "sigma_w      19922\n",
       "sigma_ma     19922\n",
       "sigma_ad     19926\n",
       "sigma_n      19922\n",
       "sigma_tp     19922\n",
       "sigma_per    19926\n",
       "class            0\n",
       "rms              2\n",
       "dtype: int64"
      ]
     },
     "execution_count": 29,
     "metadata": {},
     "output_type": "execute_result"
    }
   ],
   "source": [
    "data.isna().sum()"
   ]
  },
  {
   "cell_type": "code",
   "execution_count": 30,
   "metadata": {},
   "outputs": [],
   "source": [
    "data = data.dropna()"
   ]
  },
  {
   "cell_type": "code",
   "execution_count": 31,
   "metadata": {},
   "outputs": [
    {
     "data": {
      "text/plain": [
       "(932335, 34)"
      ]
     },
     "execution_count": 31,
     "metadata": {},
     "output_type": "execute_result"
    }
   ],
   "source": [
    "data.shape"
   ]
  },
  {
   "cell_type": "markdown",
   "metadata": {},
   "source": [
    "Even after dropping the remaining rows with missing data, we still have ~932K entries."
   ]
  },
  {
   "cell_type": "code",
   "execution_count": 32,
   "metadata": {},
   "outputs": [
    {
     "name": "stdout",
     "output_type": "stream",
     "text": [
      "<class 'pandas.core.frame.DataFrame'>\n",
      "Int64Index: 932335 entries, 0 to 958523\n",
      "Data columns (total 34 columns):\n",
      " #   Column     Non-Null Count   Dtype  \n",
      "---  ------     --------------   -----  \n",
      " 0   neo        932335 non-null  object \n",
      " 1   pha        932335 non-null  object \n",
      " 2   H          932335 non-null  float64\n",
      " 3   epoch      932335 non-null  float64\n",
      " 4   epoch_mjd  932335 non-null  int64  \n",
      " 5   epoch_cal  932335 non-null  float64\n",
      " 6   e          932335 non-null  float64\n",
      " 7   a          932335 non-null  float64\n",
      " 8   q          932335 non-null  float64\n",
      " 9   i          932335 non-null  float64\n",
      " 10  om         932335 non-null  float64\n",
      " 11  w          932335 non-null  float64\n",
      " 12  ma         932335 non-null  float64\n",
      " 13  ad         932335 non-null  float64\n",
      " 14  n          932335 non-null  float64\n",
      " 15  tp         932335 non-null  float64\n",
      " 16  tp_cal     932335 non-null  float64\n",
      " 17  per        932335 non-null  float64\n",
      " 18  per_y      932335 non-null  float64\n",
      " 19  moid       932335 non-null  float64\n",
      " 20  moid_ld    932335 non-null  float64\n",
      " 21  sigma_e    932335 non-null  float64\n",
      " 22  sigma_a    932335 non-null  float64\n",
      " 23  sigma_q    932335 non-null  float64\n",
      " 24  sigma_i    932335 non-null  float64\n",
      " 25  sigma_om   932335 non-null  float64\n",
      " 26  sigma_w    932335 non-null  float64\n",
      " 27  sigma_ma   932335 non-null  float64\n",
      " 28  sigma_ad   932335 non-null  float64\n",
      " 29  sigma_n    932335 non-null  float64\n",
      " 30  sigma_tp   932335 non-null  float64\n",
      " 31  sigma_per  932335 non-null  float64\n",
      " 32  class      932335 non-null  object \n",
      " 33  rms        932335 non-null  float64\n",
      "dtypes: float64(30), int64(1), object(3)\n",
      "memory usage: 249.0+ MB\n"
     ]
    }
   ],
   "source": [
    "data.info()"
   ]
  },
  {
   "cell_type": "code",
   "execution_count": 34,
   "metadata": {},
   "outputs": [],
   "source": [
    "data.to_csv('data/data_cleaned.csv')"
   ]
  }
 ],
 "metadata": {
  "kernelspec": {
   "display_name": "learn-env",
   "language": "python",
   "name": "learn-env"
  },
  "language_info": {
   "codemirror_mode": {
    "name": "ipython",
    "version": 3
   },
   "file_extension": ".py",
   "mimetype": "text/x-python",
   "name": "python",
   "nbconvert_exporter": "python",
   "pygments_lexer": "ipython3",
   "version": "3.8.5"
  }
 },
 "nbformat": 4,
 "nbformat_minor": 4
}
